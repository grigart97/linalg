{
 "cells": [
  {
   "cell_type": "markdown",
   "metadata": {
    "id": "aU5YNMH9kVqP"
   },
   "source": [
    "## Практическое задание"
   ]
  },
  {
   "cell_type": "markdown",
   "metadata": {
    "id": "NaYoffkueD8U"
   },
   "source": [
    "### __1.__ Исследовать на линейную зависимость:\n",
    "\n",
    "$$f_{1}(x)=e^{x}, f_{2}(x)=1, f_{3}(x)=x+1, f_{4}(x)=x-e^{x}.$$"
   ]
  },
  {
   "cell_type": "markdown",
   "metadata": {},
   "source": [
    "Можно выразить вектор $f_1(x)$ через остальные таким образом:  \n",
    "\n",
    "$$e^x=-(x-e^x)+x+1-1=-f_4(x)+f_3(x)-f_2(x)$$  \n",
    "Следовательно функции (вектора) зависимы"
   ]
  },
  {
   "cell_type": "markdown",
   "metadata": {
    "id": "cECfCSANkVqR"
   },
   "source": [
    "### __2.__ Исследовать на линейную зависимость:  \n",
    "\n",
    "$$f_{1}(x)=2, f_{2}(x)=x, f_{3}(x)=x^{2}, f_{4}(x)=(x+1)^{2}$$"
   ]
  },
  {
   "cell_type": "markdown",
   "metadata": {},
   "source": [
    "Можно выразить вектор $f_1(x)$ через остальные таким образом:  \n",
    "\n",
    "$$e^x=2(x+1)^2-2x^2-4x=2f_4(x)-2f_3(x)-4f_2(x)$$  \n",
    "Следовательно функции (вектора) зависимы"
   ]
  },
  {
   "cell_type": "markdown",
   "metadata": {
    "id": "DFrjdtbHkVqS"
   },
   "source": [
    "### __3.__ Найти координаты вектора $x = (2, 3, 5)\\in \\mathbb{R}^{3}$ в базисе $b_{1}=(0, 0, 10)$, $b_{2}=(2, 0, 0)$, $b_{3}=(0, 1, 0)$.\n"
   ]
  },
  {
   "cell_type": "markdown",
   "metadata": {},
   "source": [
    "$$x = (2,3,5) = (2,0,0)+(0,3,0)+(0,0,5)=b_2+3b_3+0.5b_1$$"
   ]
  },
  {
   "cell_type": "markdown",
   "metadata": {
    "id": "5la-eVLukVqT"
   },
   "source": [
    "### ##__4.__ Найти координаты вектора $3x^{2}-2x+2\\in\\mathbb{R}^{3}[x]$:\n",
    "\n",
    "а) в базисе $1$, $x$, $x^{2}$;"
   ]
  },
  {
   "cell_type": "markdown",
   "metadata": {},
   "source": [
    "$$e_1=x^2=x^2+0x+0=(1,0,0),\\enspace e_2=x=0x^2+1x+0=(0,1,0),\\enspace e_3=1=0x^2+0x+1=(0,0,1)$$  \n",
    "$$3x^2-2x+2=(3, -2, 2)=(3,0,0)+(0,-2,0)+(0,0,2)=3(1,0,0)-2(0,1,0)+2(0,0,1)=3e_1-2e_2+2e_3$$"
   ]
  },
  {
   "cell_type": "markdown",
   "metadata": {
    "id": "5la-eVLukVqT"
   },
   "source": [
    "б) в базисе $x^{2}$, $x-1$, $1$."
   ]
  },
  {
   "cell_type": "markdown",
   "metadata": {},
   "source": [
    "$$e_1=x^2=x^2+0x+0=(1,0,0),\\enspace e_2=x-1=0x^2+1x-1=(0,1,-1),\\enspace e_3=1=0x^2+0x+1=(0,0,1)$$  \n",
    "$$3x^2-2x+2=(3, -2, 2)=(3,0,0)+(0,-2,2)=3(1,0,0)-2(0,1,-1)+0(0,0,1)=3e_1-2e_2+0e_3$$"
   ]
  },
  {
   "cell_type": "markdown",
   "metadata": {
    "id": "kQlell_GkVqU"
   },
   "source": [
    "### ##__5.__ Установить, является ли линейным подпространством:"
   ]
  },
  {
   "cell_type": "markdown",
   "metadata": {},
   "source": [
    "Линейное подпространство должно удовлетворяьб двум условиям:  \n",
    "$$1)\\,u+v \\in L$$  \n",
    "$$2)\\,\\lambda v \\in L$$"
   ]
  },
  {
   "cell_type": "markdown",
   "metadata": {},
   "source": [
    "а) совокупность всех векторов трехмерного пространства, у которых по крайней мере одна из первых двух координат равна нулю"
   ]
  },
  {
   "cell_type": "markdown",
   "metadata": {},
   "source": [
    "Возьмем в пример два вектора: $(0, a, b), \\enspace (c, 0, d)$  \n",
    "$(c, a, b+d) \\notin L \\Rightarrow$ Совокупность не является линейным подпространством"
   ]
  },
  {
   "cell_type": "markdown",
   "metadata": {
    "id": "kQlell_GkVqU"
   },
   "source": [
    "б) все векторы, являющиеся линейными комбинациями данных векторов $\\{u_{1}, u_{2}, \\ldots, u_{n}\\}$."
   ]
  },
  {
   "cell_type": "markdown",
   "metadata": {
    "id": "ru-WGx__kVnK"
   },
   "source": [
    "__Определение__\n",
    "\n",
    "Совокупность всех линейных комбинаций этих векторов образует некоторое подпространство исходного линейного пространства. Она будет называться _линейной оболочкой_ этого множества и обозначаться $L\\{u_{1}, u_{2}, ... , u_{n}\\}.$"
   ]
  }
 ],
 "metadata": {
  "kernelspec": {
   "display_name": "Python 3",
   "language": "python",
   "name": "python3"
  },
  "language_info": {
   "codemirror_mode": {
    "name": "ipython",
    "version": 3
   },
   "file_extension": ".py",
   "mimetype": "text/x-python",
   "name": "python",
   "nbconvert_exporter": "python",
   "pygments_lexer": "ipython3",
   "version": "3.8.5"
  }
 },
 "nbformat": 4,
 "nbformat_minor": 4
}
