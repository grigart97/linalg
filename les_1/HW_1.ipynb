{
 "cells": [
  {
   "cell_type": "markdown",
   "metadata": {
    "id": "aU5YNMH9kVqP"
   },
   "source": [
    "## Практическое задание 1"
   ]
  },
  {
   "cell_type": "markdown",
   "metadata": {
    "id": "NaYoffkueD8U"
   },
   "source": [
    "### __1.__ Исследовать на линейную зависимость:\n",
    "\n",
    "$$f_{1}(x)=e^{x}, f_{2}(x)=1, f_{3}(x)=x+1, f_{4}(x)=x-e^{x}.$$"
   ]
  },
  {
   "cell_type": "markdown",
   "metadata": {},
   "source": [
    "Можно выразить вектор $f_1(x)$ через остальные таким образом:  \n",
    "\n",
    "$$e^x=-(x-e^x)+x+1-1=-f_4(x)+f_3(x)-f_2(x)$$  \n",
    "Следовательно функции (вектора) зависимы"
   ]
  },
  {
   "cell_type": "markdown",
   "metadata": {
    "id": "cECfCSANkVqR"
   },
   "source": [
    "### __2.__ Исследовать на линейную зависимость:  \n",
    "\n",
    "$$f_{1}(x)=2, f_{2}(x)=x, f_{3}(x)=x^{2}, f_{4}(x)=(x+1)^{2}$$"
   ]
  },
  {
   "cell_type": "markdown",
   "metadata": {},
   "source": [
    "Можно выразить вектор $f_1(x)$ через остальные таким образом:  \n",
    "\n",
    "$$e^x=2(x+1)^2-2x^2-4x=2f_4(x)-2f_3(x)-4f_2(x)$$  \n",
    "Следовательно функции (вектора) зависимы"
   ]
  },
  {
   "cell_type": "markdown",
   "metadata": {
    "id": "DFrjdtbHkVqS"
   },
   "source": [
    "### __3.__ Найти координаты вектора $x = (2, 3, 5)\\in \\mathbb{R}^{3}$ в базисе $b_{1}=(0, 0, 10)$, $b_{2}=(2, 0, 0)$, $b_{3}=(0, 1, 0)$.\n"
   ]
  },
  {
   "cell_type": "markdown",
   "metadata": {},
   "source": [
    "$$x = (2,3,5) = (2,0,0)+(0,3,0)+(0,0,5)=b_2+3b_3+0.5b_1$$"
   ]
  },
  {
   "cell_type": "markdown",
   "metadata": {
    "id": "5la-eVLukVqT"
   },
   "source": [
    "### ##__4.__ Найти координаты вектора $3x^{2}-2x+2\\in\\mathbb{R}^{3}[x]$:\n",
    "\n",
    "а) в базисе $1$, $x$, $x^{2}$;"
   ]
  },
  {
   "cell_type": "markdown",
   "metadata": {},
   "source": [
    "$$e_1=x^2=x^2+0x+0=(1,0,0),\\enspace e_2=x=0x^2+1x+0=(0,1,0),\\enspace e_3=1=0x^2+0x+1=(0,0,1)$$  \n",
    "$$3x^2-2x+2=(3, -2, 2)=(3,0,0)+(0,-2,0)+(0,0,2)=3(1,0,0)-2(0,1,0)+2(0,0,1)=3e_1-2e_2+2e_3$$"
   ]
  },
  {
   "cell_type": "markdown",
   "metadata": {
    "id": "5la-eVLukVqT"
   },
   "source": [
    "б) в базисе $x^{2}$, $x-1$, $1$."
   ]
  },
  {
   "cell_type": "markdown",
   "metadata": {},
   "source": [
    "$$e_1=x^2=x^2+0x+0=(1,0,0),\\enspace e_2=x-1=0x^2+1x-1=(0,1,-1),\\enspace e_3=1=0x^2+0x+1=(0,0,1)$$  \n",
    "$$3x^2-2x+2=(3, -2, 2)=(3,0,0)+(0,-2,2)=3(1,0,0)-2(0,1,-1)+0(0,0,1)=3e_1-2e_2+0e_3$$"
   ]
  },
  {
   "cell_type": "markdown",
   "metadata": {
    "id": "kQlell_GkVqU"
   },
   "source": [
    "### ##__5.__ Установить, является ли линейным подпространством:"
   ]
  },
  {
   "cell_type": "markdown",
   "metadata": {},
   "source": [
    "Линейное подпространство должно удовлетворяьб двум условиям:  \n",
    "$$1)\\,u+v \\in L$$  \n",
    "$$2)\\,\\lambda v \\in L$$"
   ]
  },
  {
   "cell_type": "markdown",
   "metadata": {},
   "source": [
    "а) совокупность всех векторов трехмерного пространства, у которых по крайней мере одна из первых двух координат равна нулю"
   ]
  },
  {
   "cell_type": "markdown",
   "metadata": {},
   "source": [
    "Возьмем в пример два вектора: $(0, a, b), \\enspace (c, 0, d)$  \n",
    "$(c, a, b+d) \\notin L \\Rightarrow$ Совокупность не является линейным подпространством"
   ]
  },
  {
   "cell_type": "markdown",
   "metadata": {
    "id": "kQlell_GkVqU"
   },
   "source": [
    "б) все векторы, являющиеся линейными комбинациями данных векторов $\\{u_{1}, u_{2}, \\ldots, u_{n}\\}$."
   ]
  },
  {
   "cell_type": "markdown",
   "metadata": {},
   "source": [
    "## Практическое задание 2 "
   ]
  },
  {
   "cell_type": "code",
   "execution_count": 1,
   "metadata": {},
   "outputs": [],
   "source": [
    "import numpy as np"
   ]
  },
  {
   "cell_type": "markdown",
   "metadata": {
    "id": "81d4BnNXc7cy"
   },
   "source": [
    "### __1.__ Найти скалярное произведение векторов $x, y \\in \\mathbb{R}$:<br>\n",
    "а) $x=(0,-3, 6),~y=(-4, 7, 9);$<br>\n",
    "б) $x=(7, -4, 0, 1),~y=(-3, 1, 11, 2).$"
   ]
  },
  {
   "cell_type": "code",
   "execution_count": 3,
   "metadata": {},
   "outputs": [
    {
     "data": {
      "text/plain": [
       "(33, -23)"
      ]
     },
     "execution_count": 3,
     "metadata": {},
     "output_type": "execute_result"
    }
   ],
   "source": [
    "x1 = np.array([0,-3,6])\n",
    "y1 = np.array([-4,7,9])\n",
    "\n",
    "x2 = np.array([7, -4, 0, 1])\n",
    "y2 = np.array([-3, 1, 11, 2])\n",
    "x1 @ y1, x2 @ y2"
   ]
  },
  {
   "cell_type": "markdown",
   "metadata": {},
   "source": [
    "$$a)\\enspace(x, y)=0\\cdot4+(-3)\\cdot7+6\\cdot9=0-21+54=33$$\n",
    "$$б)\\enspace(x,y)=7\\cdot(-3)+(-4)\\cdot1+0\\cdot11+1\\cdot2=-21-4+2=-23$$"
   ]
  },
  {
   "cell_type": "markdown",
   "metadata": {
    "id": "81d4BnNXc7cy"
   },
   "source": [
    "### __2.__ Найти нормы векторов $(4, 2, 4)$ и $(12, 3, 4)$ и угол между ними."
   ]
  },
  {
   "cell_type": "code",
   "execution_count": 9,
   "metadata": {},
   "outputs": [
    {
     "data": {
      "text/plain": [
       "0.8974358974358974"
      ]
     },
     "execution_count": 9,
     "metadata": {},
     "output_type": "execute_result"
    }
   ],
   "source": [
    "a = np.array([4,2,4])\n",
    "b = np.array([12,3,4])\n",
    "sk_ab = np.dot(a, b)\n",
    "\n",
    "norm_a = np.linalg.norm(a, ord=2)\n",
    "norm_b = np.linalg.norm(b, ord=2)\n",
    "\n",
    "cos_ab = sk_ab / norm_a / norm_b\n",
    "cos_ab"
   ]
  },
  {
   "cell_type": "markdown",
   "metadata": {},
   "source": [
    "$$(a,b)=4\\cdot12+2\\cdot3+4\\cdot4=48+6+16=70$$  \n",
    "$$\\left\\|a\\right\\|=\\sqrt{16+4+16}=\\sqrt{36}=6$$  \n",
    "$$\\left\\|b\\right\\|=\\sqrt{144+9+16}=\\sqrt{169}=13$$  \n",
    "$$\\cos{\\varphi}=\\frac{(a,b)}{\\left\\|a\\right\\|\\cdot\\left\\|b\\right\\|}=\\frac{70}{6\\cdot13}=\\frac{70}{78}=\\frac{35}{39}$$"
   ]
  },
  {
   "cell_type": "markdown",
   "metadata": {
    "id": "81d4BnNXc7cy"
   },
   "source": [
    "### __3.__ Будет ли линейное пространство евклидовым, если за скалярное произведение принять:<br>"
   ]
  },
  {
   "cell_type": "markdown",
   "metadata": {},
   "source": [
    "а) произведение длин векторов  \n",
    "__Ответ:__ Да, если угол между ними $90^{\\circ}$ (Векторы - _ортоганальны_)"
   ]
  },
  {
   "cell_type": "markdown",
   "metadata": {},
   "source": [
    "б) утроенное обычное скалярное произведение векторов?<br>\n",
    "__Ответ:__ Нет, обычное скалярное произведение векторов - это сумма произведений координат вектора."
   ]
  },
  {
   "cell_type": "markdown",
   "metadata": {
    "id": "81d4BnNXc7cy"
   },
   "source": [
    "### __4.__ Какие из нижеперечисленных векторов образуют ортонормированный базис в линейном пространстве $\\mathbb{R}^{3}$:"
   ]
  },
  {
   "cell_type": "markdown",
   "metadata": {},
   "source": [
    "Вектора образуют ортонормированный базис, если их нормы равный $1$, а скалярное произведение равно $0$."
   ]
  },
  {
   "cell_type": "markdown",
   "metadata": {},
   "source": [
    "а) $(1,0,0),(0,0,1)$"
   ]
  },
  {
   "cell_type": "markdown",
   "metadata": {},
   "source": [
    "$$\\left\\|(1,0,0)\\right\\|=1$$  \n",
    "$$\\left\\|(0,0,1)\\right\\|=1$$  \n",
    "$$((1,0,0),(0,0,1)) = 1\\cdot0+0\\cdot0+0\\cdot1=0$$  \n",
    "__Ответ:__ Ортонормированный базис"
   ]
  },
  {
   "cell_type": "markdown",
   "metadata": {
    "id": "81d4BnNXc7cy"
   },
   "source": [
    "б) $(1/\\sqrt{2},-1/\\sqrt{2},0),(1/\\sqrt{2},1/\\sqrt{2},0), (0,0,1)$"
   ]
  },
  {
   "cell_type": "markdown",
   "metadata": {},
   "source": [
    "$$\\left\\|(\\frac1{\\sqrt{2}},-\\frac1{\\sqrt2},0)\\right\\|=\\sqrt{0.5+0.5+0}=1$$  \n",
    "$$\\left\\|(\\frac1{\\sqrt{2}},\\frac1{\\sqrt2},0)\\right\\|=1$$  \n",
    "Третий вектор рассчитан в пункте __а)__\n",
    "$$((1/\\sqrt{2},-1/\\sqrt{2},0),(1/\\sqrt{2},1/\\sqrt{2},0), (0,0,1))=\\frac{1}{\\sqrt2}\\cdot\\frac{1}{\\sqrt2}\\cdot0-\\frac{1}{\\sqrt2}\\cdot\\frac{1}{\\sqrt2}\\cdot0+0\\cdot0\\cdot1=0$$\n",
    "__Ответ:__ Ортонормированный базис"
   ]
  },
  {
   "cell_type": "markdown",
   "metadata": {
    "id": "81d4BnNXc7cy"
   },
   "source": [
    "в) $(1/2, -1/2, 0), (0, 1/2, 1/2), (0,0,1)$"
   ]
  },
  {
   "cell_type": "markdown",
   "metadata": {},
   "source": [
    "$$\\left\\|(\\frac12,-\\frac12,0)\\right\\|=\\sqrt{0.25+0.25+0}=\\frac1{\\sqrt2}$$  \n",
    "$$\\left\\|(\\frac12,\\frac12,0)\\right\\|=\\frac1{\\sqrt2}$$  \n",
    "Третий вектор рассчитан в пункте __а)__\n",
    "$$((\\frac12,-\\frac12,0),(\\frac12,-\\frac12,0), (0,0,1))=\\frac12\\cdot\\frac12\\cdot0-\\frac12\\cdot\\frac12\\cdot0+0\\cdot0\\cdot1=0$$\n",
    "__Ответ:__ Ортогональный базис"
   ]
  },
  {
   "cell_type": "markdown",
   "metadata": {
    "id": "81d4BnNXc7cy"
   },
   "source": [
    "г) $(1,0,0),(0,1,0),(0,0,1)$ "
   ]
  },
  {
   "cell_type": "markdown",
   "metadata": {},
   "source": [
    "__Ответ:__ Ортонормированный базис (исходя из ранее полученный расчётов)"
   ]
  }
 ],
 "metadata": {
  "kernelspec": {
   "display_name": "Python 3",
   "language": "python",
   "name": "python3"
  },
  "language_info": {
   "codemirror_mode": {
    "name": "ipython",
    "version": 3
   },
   "file_extension": ".py",
   "mimetype": "text/x-python",
   "name": "python",
   "nbconvert_exporter": "python",
   "pygments_lexer": "ipython3",
   "version": "3.8.5"
  }
 },
 "nbformat": 4,
 "nbformat_minor": 4
}
