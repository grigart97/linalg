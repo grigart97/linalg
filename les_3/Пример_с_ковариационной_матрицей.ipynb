{
 "cells": [
  {
   "cell_type": "code",
   "execution_count": null,
   "metadata": {
    "id": "TMU-vG5tL_53",
    "outputId": "511532ee-b061-40c2-9e32-e7682d05d00b"
   },
   "outputs": [
    {
     "name": "stdout",
     "output_type": "stream",
     "text": [
      "Матрица A:\n",
      "[[ -3.7  -10.16]\n",
      " [  0.92  11.15]\n",
      " [ -4.37   0.66]\n",
      " [ 14.81  53.6 ]\n",
      " [  6.46  16.21]\n",
      " [  0.33  -4.  ]\n",
      " [ 14.19  35.23]\n",
      " [-16.51 -54.32]\n",
      " [-13.58 -33.72]\n",
      " [-24.93 -64.75]\n",
      " [ 25.75  65.91]\n",
      " [ 23.3   56.21]\n",
      " [  3.49  20.25]\n",
      " [-21.85 -68.15]\n",
      " [ -6.76 -27.08]\n",
      " [  6.52  22.72]\n",
      " [ 29.26  86.74]\n",
      " [-27.05 -94.96]\n",
      " [ 12.48  31.37]\n",
      " [ 16.54  41.8 ]\n",
      " [-20.02 -65.8 ]\n",
      " [ -8.49 -30.07]\n",
      " [-28.64 -85.31]\n",
      " [ -3.22   3.19]\n",
      " [-12.59 -43.92]\n",
      " [ 26.64  66.43]\n",
      " [ 28.95  73.09]\n",
      " [-29.36 -96.13]\n",
      " [  3.89   3.33]\n",
      " [ -0.48 -14.3 ]]\n"
     ]
    }
   ],
   "source": [
    "import matplotlib.pyplot as plt\n",
    "import numpy as np\n",
    "np.set_printoptions(precision=2, suppress=True)\n",
    "\n",
    "\n",
    "x = np.random.uniform(-30, 30, 30) \n",
    "q = np.random.uniform(-30, 30, 30) \n",
    "y = 3*x+0.5*q \n",
    "\n",
    "\n",
    "A =np.array( [x]+[y]).T\n",
    "\n",
    "print(f'Матрица A:\\n{A}')"
   ]
  },
  {
   "cell_type": "markdown",
   "metadata": {
    "id": "xV2O0AxNL_6J"
   },
   "source": [
    "попытка1 - найти вектор методом МНК "
   ]
  },
  {
   "cell_type": "code",
   "execution_count": null,
   "metadata": {
    "id": "r6bbPthlL_6L"
   },
   "outputs": [],
   "source": [
    "MNK=np.vstack([A.T[0], np.ones(len(A))]).T"
   ]
  },
  {
   "cell_type": "code",
   "execution_count": null,
   "metadata": {
    "id": "nOtegGG9L_6L",
    "outputId": "552362e1-9d89-4e6d-fdac-7888791a7f99",
    "scrolled": true
   },
   "outputs": [
    {
     "data": {
      "text/plain": [
       "(2.8893379262632344, -2.7188951056139303)"
      ]
     },
     "execution_count": 3,
     "metadata": {
      "tags": []
     },
     "output_type": "execute_result"
    }
   ],
   "source": [
    "m, c = np.linalg.lstsq(MNK, A.T[1], rcond=None)[0]\n",
    "m, c"
   ]
  },
  {
   "cell_type": "code",
   "execution_count": null,
   "metadata": {
    "id": "nDfZEsY2L_6M"
   },
   "outputs": [],
   "source": [
    "U, s, V = np.linalg.svd(A)"
   ]
  },
  {
   "cell_type": "code",
   "execution_count": null,
   "metadata": {
    "id": "bYfocE7RL_6N"
   },
   "outputs": [],
   "source": [
    "D = np.eye(2)*s"
   ]
  },
  {
   "cell_type": "code",
   "execution_count": null,
   "metadata": {
    "id": "4mNYlOLCL_6O",
    "outputId": "5e8f4ac4-9cd3-4c0a-b8d1-49c950afc4c6"
   },
   "outputs": [
    {
     "name": "stdout",
     "output_type": "stream",
     "text": [
      "Матрица D:\n",
      "[[297.79   0.  ]\n",
      " [  0.    15.13]]\n"
     ]
    }
   ],
   "source": [
    "print(f'Матрица D:\\n{D}')"
   ]
  },
  {
   "cell_type": "code",
   "execution_count": null,
   "metadata": {
    "id": "0_t_s9bGL_6O",
    "outputId": "74897c96-135c-4e74-9937-efbabd6f61e7"
   },
   "outputs": [
    {
     "name": "stdout",
     "output_type": "stream",
     "text": [
      "Матрица A_:\n",
      "[[ 9262.58 26784.56]\n",
      " [26784.56 79644.14]]\n",
      "Собственные значения:\n",
      "[  228.88 88677.83]\n",
      "Собственные векторы:\n",
      "[[-0.95 -0.32]\n",
      " [ 0.32 -0.95]]\n",
      "Собственные значения:\n",
      "[88677.83   228.88]\n",
      "Матрица U:\n",
      "[[-0.32 -0.95]\n",
      " [-0.95  0.32]]\n",
      "Собственные вектор, найденный по первому собственному значению:\n",
      "[-0.32 -0.95]\n",
      "Собственные вектор, найденный по второму собственному значению:\n",
      "[-0.95  0.32]\n",
      "Матрица V:\n",
      "[[-0.32 -0.95]\n",
      " [-0.95  0.32]]\n",
      "Матрица d:\n",
      "[-0.95  0.32]\n"
     ]
    }
   ],
   "source": [
    "A_=np.array([[A.T[0].dot(A.T[0]), A.T[0].dot(A.T[1])], [A.T[1].dot(A.T[0]), A.T[1].dot(A.T[1])]])\n",
    "w, v = np.linalg.eig(A_)\n",
    "print(f'Матрица A_:\\n{A_}')\n",
    "print(f'Собственные значения:\\n{w}')\n",
    "print(f'Собственные векторы:\\n{v}')\n",
    "\n",
    "U, s, V = np.linalg.svd(A_)\n",
    "D = np.eye(2)*s\n",
    "print(f'Собственные значения:\\n{s}')\n",
    "print(f'Матрица U:\\n{U}')\n",
    "print(f'Собственные вектор, найденный по первому собственному значению:\\n{U[0]}')\n",
    "print(f'Собственные вектор, найденный по второму собственному значению:\\n{U[1]}')\n",
    "print(f'Матрица V:\\n{V}')\n",
    "\n",
    "\n",
    "print(f'Матрица d:\\n{v[:,0]}')"
   ]
  },
  {
   "cell_type": "markdown",
   "metadata": {
    "id": "ZxPLNQ2pL_6P"
   },
   "source": [
    "судя по всему не совсем удалось"
   ]
  },
  {
   "cell_type": "code",
   "execution_count": null,
   "metadata": {
    "id": "4LxOvSiwL_6Q",
    "outputId": "b30dd513-289e-464f-e232-e8b4c4b6060d"
   },
   "outputs": [
    {
     "data": {
      "image/png": "[encoded data removed]",
      "text/plain": [
       "<Figure size 576x576 with 1 Axes>"
      ]
     },
     "metadata": {
      "needs_background": "light",
      "tags": []
     },
     "output_type": "display_data"
    }
   ],
   "source": [
    "import matplotlib.pyplot as plt\n",
    "\n",
    "plt.figure(figsize=(8,8))\n",
    "plt.xlim([-33, 33])\n",
    "plt.ylim([-33, 33])\n",
    "plt.yticks(np.arange(-30, 31, 3))\n",
    "plt.xticks(np.arange(-30, 31, 3))\n",
    "plt.gca().set_aspect('equal', adjustable='box')\n",
    "\n",
    "\n",
    "plt.scatter(A.T[0], A.T[1], c='black')\n",
    "\n",
    "\n",
    "origin = [0], [0] # origin point\n",
    "plt.quiver([0],[0], U[:1][0][0], U[:1][0][1], color=['g'], scale=3)\n",
    "plt.quiver([0],[0], U[1:2][0][0], U[1:2][0][1], color=['r'], scale=3)\n",
    "plt.xlabel(\"x\")\n",
    "plt.ylabel(\"y\")\n",
    "\n",
    "plt.show()"
   ]
  },
  {
   "cell_type": "code",
   "execution_count": null,
   "metadata": {
    "id": "u8igst4HL_6R"
   },
   "outputs": [],
   "source": [
    ""
   ]
  },
  {
   "cell_type": "code",
   "execution_count": null,
   "metadata": {
    "id": "FakQB-cYL_6R"
   },
   "outputs": [],
   "source": [
    ""
   ]
  },
  {
   "cell_type": "code",
   "execution_count": null,
   "metadata": {
    "id": "37tukYOyL_6S"
   },
   "outputs": [],
   "source": [
    ""
   ]
  }
 ],
 "metadata": {
  "colab": {
   "collapsed_sections": [],
   "name": "Пример с ковариационной матрицей.ipynb",
   "provenance": []
  },
  "kernelspec": {
   "display_name": "Python 3",
   "language": "python",
   "name": "python3"
  },
  "language_info": {
   "codemirror_mode": {
    "name": "ipython",
    "version": 3
   },
   "file_extension": ".py",
   "mimetype": "text/x-python",
   "name": "python",
   "nbconvert_exporter": "python",
   "pygments_lexer": "ipython3",
   "version": "3.7.10"
  }
 },
 "nbformat": 4,
 "nbformat_minor": 0
}
