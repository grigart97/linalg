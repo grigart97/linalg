{
 "cells": [
  {
   "cell_type": "markdown",
   "metadata": {
    "id": "qyU0wiO2CG2Q"
   },
   "source": [
    "## Практическое задание"
   ]
  },
  {
   "cell_type": "code",
   "execution_count": 1,
   "metadata": {},
   "outputs": [],
   "source": [
    "import numpy as np"
   ]
  },
  {
   "cell_type": "markdown",
   "metadata": {
    "id": "sNOgFRFrCG2S"
   },
   "source": [
    "### __1.__ Найти собственные векторы и собственные значения для линейного оператора, заданного матрицей\n",
    "\n",
    "$$A=\\begin{pmatrix}\n",
    "-1 & -6\\\\ \n",
    "2 & 6\n",
    "\\end{pmatrix}$$"
   ]
  },
  {
   "cell_type": "markdown",
   "metadata": {},
   "source": [
    "$$\\begin{vmatrix}\n",
    "-1-\\lambda & -6\\\\\n",
    "2 & 6 - \\lambda\\\\\n",
    "\\end{vmatrix}=0$$  \n",
    "$$(-1-\\lambda)(6-\\lambda) + 12 = 0$$  \n",
    "$$-6+\\lambda - 6\\lambda +\\lambda^2+12=0$$  \n",
    "$$\\lambda^2 - 5\\lambda +6=0$$  \n",
    "$$\\begin{cases}\n",
    "\\lambda_1+\\lambda_2=5\\\\\n",
    "\\lambda_1\\cdot\\lambda_2=6\n",
    "\\end{cases} \\begin{cases}\n",
    "\\lambda_1=2\\\\\n",
    "\\lambda_1=3\n",
    "\\end{cases}$$"
   ]
  },
  {
   "cell_type": "markdown",
   "metadata": {},
   "source": [
    "$$\\begin{pmatrix}\n",
    "-1 & -6\\\\\n",
    "2 & 6 \\\\\n",
    "\\end{pmatrix}\n",
    "\\begin{pmatrix}\n",
    "x_1\\\\\n",
    "x_2\\\\\n",
    "\\end{pmatrix} = \n",
    "2\\begin{pmatrix}\n",
    "x_1\\\\\n",
    "x_2\\\\\n",
    "\\end{pmatrix}$$"
   ]
  },
  {
   "cell_type": "markdown",
   "metadata": {},
   "source": [
    "$$\\begin{cases}\n",
    "-x_1-6x_2=2x_1\\\\\n",
    "2x_1+6x_2=2x_2\n",
    "\\end{cases} \n",
    "\\begin{cases}\n",
    "x_1=-2x_2\\\\\n",
    "2x_2=2x_2\\\\\n",
    "\\end{cases}\n",
    "\\begin{cases}\n",
    "x_1=-2x_2\\\\\n",
    "x_2-любое\\\\\n",
    "\\end{cases}$$"
   ]
  },
  {
   "cell_type": "markdown",
   "metadata": {},
   "source": [
    "$$\\begin{pmatrix}\n",
    "-1 & -6\\\\\n",
    "2 & 6 \\\\\n",
    "\\end{pmatrix}\n",
    "\\begin{pmatrix}\n",
    "x_1\\\\\n",
    "x_2\\\\\n",
    "\\end{pmatrix} = \n",
    "3\\begin{pmatrix}\n",
    "x_1\\\\\n",
    "x_2\\\\\n",
    "\\end{pmatrix}$$"
   ]
  },
  {
   "cell_type": "markdown",
   "metadata": {},
   "source": [
    "$$\\begin{cases}\n",
    "-x_1-6x_2=3x_1\\\\\n",
    "2x_1+6x_2=3x_2\n",
    "\\end{cases} \n",
    "\\begin{cases}\n",
    "2x_1=-3x_2\\\\\n",
    "3x_2=3x_2\\\\\n",
    "\\end{cases}\n",
    "\\begin{cases}\n",
    "x_1=\\frac{-3}{2}x_2\\\\\n",
    "x_2-любое\\\\\n",
    "\\end{cases}$$"
   ]
  },
  {
   "cell_type": "markdown",
   "metadata": {},
   "source": [
    "Пример собственных векторов $-\\,(-2, 1);\\enspace(-3, 2)$"
   ]
  },
  {
   "cell_type": "code",
   "execution_count": 3,
   "metadata": {},
   "outputs": [
    {
     "data": {
      "text/plain": [
       "(array([2., 3.]),\n",
       " array([[-0.89442719,  0.83205029],\n",
       "        [ 0.4472136 , -0.5547002 ]]))"
      ]
     },
     "execution_count": 3,
     "metadata": {},
     "output_type": "execute_result"
    }
   ],
   "source": [
    "a_1 = np.array([[-1, -6], [2, 6]])\n",
    "w, v = np.linalg.eig(a_1)\n",
    "w, v"
   ]
  },
  {
   "cell_type": "markdown",
   "metadata": {
    "id": "sNOgFRFrCG2S"
   },
   "source": [
    "### __2.__ Дан оператор поворота на 180 градусов, задаваемый матрицей \n",
    "\n",
    "$$A=\\begin{pmatrix}\n",
    "-1 & 0\\\\ \n",
    "0 & -1\n",
    "\\end{pmatrix}.$$\n",
    "\n",
    "Показать, что __любой__ вектор является для него собственным."
   ]
  },
  {
   "cell_type": "markdown",
   "metadata": {},
   "source": [
    "$$\\begin{vmatrix}\n",
    "-1-\\lambda & 0\\\\\n",
    "0 & -1-\\lambda\\\\\n",
    "\\end{vmatrix}=0$$  \n",
    "$$(-1-\\lambda)^2=0$$  \n",
    "$$\\lambda_1=\\lambda_2=-1$$"
   ]
  },
  {
   "cell_type": "markdown",
   "metadata": {},
   "source": [
    "$$\\begin{pmatrix}\n",
    "-1 & 0\\\\\n",
    "0 & -1 \\\\\n",
    "\\end{pmatrix}\n",
    "\\begin{pmatrix}\n",
    "x_1\\\\\n",
    "x_2\\\\\n",
    "\\end{pmatrix} = \n",
    "-1\\begin{pmatrix}\n",
    "x_1\\\\\n",
    "x_2\\\\\n",
    "\\end{pmatrix}$$"
   ]
  },
  {
   "cell_type": "markdown",
   "metadata": {},
   "source": [
    "$$\\begin{cases}\n",
    "-x_1+0x_2=-1x_1\\\\\n",
    "0x_1-1x_2=-1x_2\n",
    "\\end{cases}\n",
    "\\begin{cases}\n",
    "x_1-любое\\\\\n",
    "x_2-любое\\\\\n",
    "\\end{cases}$$"
   ]
  },
  {
   "cell_type": "code",
   "execution_count": 6,
   "metadata": {},
   "outputs": [
    {
     "data": {
      "text/plain": [
       "(array([-1., -1.]),\n",
       " array([[1., 0.],\n",
       "        [0., 1.]]))"
      ]
     },
     "execution_count": 6,
     "metadata": {},
     "output_type": "execute_result"
    }
   ],
   "source": [
    "a_2 = np.array([[-1, 0], [0, -1]])\n",
    "w, v = np.linalg.eig(a_2)\n",
    "w, v"
   ]
  },
  {
   "cell_type": "markdown",
   "metadata": {
    "id": "sNOgFRFrCG2S"
   },
   "source": [
    "### __3.__ Пусть линейный оператор задан матрицей\n",
    "\n",
    "$$A=\\begin{pmatrix}\n",
    "1 & 1\\\\ \n",
    "-1 & 3\n",
    "\\end{pmatrix}.$$\n",
    "\n",
    "Установить, является ли вектор $x=(1,1)$ собственным вектором этого линейного оператора.\n",
    "\n"
   ]
  },
  {
   "cell_type": "markdown",
   "metadata": {},
   "source": [
    "$$\\begin{pmatrix}\n",
    "1 & 1\\\\\n",
    "-1 & 3 \\\\\n",
    "\\end{pmatrix}\n",
    "\\begin{pmatrix}\n",
    "1\\\\\n",
    "1\\\\\n",
    "\\end{pmatrix} = \n",
    "\\lambda\\begin{pmatrix}\n",
    "1\\\\\n",
    "1\\\\\n",
    "\\end{pmatrix}$$"
   ]
  },
  {
   "cell_type": "markdown",
   "metadata": {},
   "source": [
    "$$\\begin{cases}\n",
    "1+1=\\lambda\\\\\n",
    "-1+3=\\lambda\n",
    "\\end{cases}\n",
    "\\begin{cases}\n",
    "\\lambda=2\\\\\n",
    "\\lambda=2\\\\\n",
    "\\end{cases}$$"
   ]
  },
  {
   "cell_type": "markdown",
   "metadata": {},
   "source": [
    "__Ответ:__ вектор $x=(1,1)$ является собственным для данного линейного оператора"
   ]
  },
  {
   "cell_type": "markdown",
   "metadata": {
    "id": "fZvLaIPW0JY1"
   },
   "source": [
    "### **4.** Пусть линейный оператор задан матрицей\n",
    "\n",
    "$$A=\\begin{pmatrix} 0 & 3 & 0\\\\ 3 & 0 & 0\\\\ 0 & 0 & 3 \\end{pmatrix}.$$\n",
    "\n",
    "Установить, является ли вектор $x=(3, -3, -4)$ собственным вектором этого линейного оператора."
   ]
  },
  {
   "cell_type": "markdown",
   "metadata": {},
   "source": [
    "$$\\begin{pmatrix}\n",
    "0 & 3 & 0\\\\\n",
    "3 & 0 & 0\\\\\n",
    "0 & 0 & 3\n",
    "\\end{pmatrix}\n",
    "\\begin{pmatrix}\n",
    "3\\\\\n",
    "-3\\\\\n",
    "-4\\\\\n",
    "\\end{pmatrix} = \n",
    "\\lambda\\begin{pmatrix}\n",
    "3\\\\\n",
    "-3\\\\\n",
    "-4\\\\\n",
    "\\end{pmatrix}$$"
   ]
  },
  {
   "cell_type": "markdown",
   "metadata": {},
   "source": [
    "$$\\begin{cases}\n",
    "0\\cdot3-3\\cdot3+0\\cdot(-4)=3\\lambda\\\\\n",
    "3\\cdot3+0\\cdot(-3)+0\\cdot(-4)=-3\\lambda\\\\\n",
    "0\\cdot3+0\\cdot(-3)+3\\cdot(-4)=-4\\lambda\n",
    "\\end{cases}\n",
    "\\begin{cases}\n",
    "-9=3\\lambda\\\\\n",
    "9=-3\\lambda\\\\\n",
    "-12=-4\\lambda\n",
    "\\end{cases}\n",
    "\\begin{cases}\n",
    "\\lambda=-3\\\\\n",
    "\\lambda=-3\\\\\n",
    "\\lambda=3\n",
    "\\end{cases}$$"
   ]
  },
  {
   "cell_type": "markdown",
   "metadata": {},
   "source": [
    "__Ответ:__ вектор $x=(3,-3,-4)$ __не__ является собственным для данного линейного оператора"
   ]
  }
 ],
 "metadata": {
  "kernelspec": {
   "display_name": "Python 3",
   "language": "python",
   "name": "python3"
  },
  "language_info": {
   "codemirror_mode": {
    "name": "ipython",
    "version": 3
   },
   "file_extension": ".py",
   "mimetype": "text/x-python",
   "name": "python",
   "nbconvert_exporter": "python",
   "pygments_lexer": "ipython3",
   "version": "3.8.5"
  }
 },
 "nbformat": 4,
 "nbformat_minor": 4
}
