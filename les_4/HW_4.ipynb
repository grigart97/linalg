{
 "cells": [
  {
   "cell_type": "markdown",
   "metadata": {
    "id": "J2D422I0ZS5N"
   },
   "source": [
    "## Практическое задание 6"
   ]
  },
  {
   "cell_type": "code",
   "execution_count": 1,
   "metadata": {},
   "outputs": [],
   "source": [
    "import numpy as np\n",
    "import sympy as sp"
   ]
  },
  {
   "cell_type": "markdown",
   "metadata": {
    "id": "cTVfl123ZS5O"
   },
   "source": [
    "### __1.__ Решить систему уравнений методом Гаусса:\n",
    "\n",
    "$$\\begin{cases}\n",
    "x_{1}+x_{2}-x_{3}-2x_{4}=0, \\\\\n",
    "2x_{1}+x_{2}-x_{3}+x_{4}=-2, \\\\\n",
    "x_{1}+x_{2}-3x_{3}+x_{4}=4.\n",
    "\\end{cases}$$"
   ]
  },
  {
   "cell_type": "markdown",
   "metadata": {},
   "source": [
    "$$\\begin{pmatrix}\n",
    "\\left.\\begin{matrix}\n",
    "1 & 1 & -1 & -2 \\\\\n",
    "2 & 1 & -1 & 1 \\\\\n",
    "1 & 1 & -3 & 1\n",
    "\\end{matrix}\\right|\n",
    "\\begin{matrix}\n",
    "0 \\\\\n",
    "-2 \\\\\n",
    "4\n",
    "\\end{matrix}\n",
    "\\end{pmatrix}$$"
   ]
  },
  {
   "cell_type": "markdown",
   "metadata": {},
   "source": [
    "$$\\begin{pmatrix}\n",
    "\\left.\\begin{matrix}\n",
    "1 & 1 & -1 & -2 \\\\\n",
    "0 & -1 & 1 & 3 \\\\\n",
    "0 & 0 & -4 & 3\n",
    "\\end{matrix}\\right|\n",
    "\\begin{matrix}\n",
    "0 \\\\\n",
    "-2 \\\\\n",
    "4\n",
    "\\end{matrix}\n",
    "\\end{pmatrix}$$"
   ]
  },
  {
   "cell_type": "markdown",
   "metadata": {},
   "source": [
    "$rankA = 4,\\,rank\\tilde A=3,\\,n=3\\Rightarrow$ система имеет бесконечное множество решений"
   ]
  },
  {
   "cell_type": "markdown",
   "metadata": {},
   "source": [
    "$$\\begin{cases}\n",
    "x_1+x_2-x_3-2x_4=0\\\\\n",
    "-x_2+x_3+3x_4=-2\\\\\n",
    "-4x_3+3x_4=4\n",
    "\\end{cases}\n",
    "\\begin{cases}\n",
    "x_4=c\\\\  \n",
    "x_3=\\frac{3c-4}{4}\\\\\n",
    "x_2=2+3c+\\frac{3c-4}{4}\\\\\n",
    "x_1=2c+\\frac{3c-4}{4}-2-3c-\\frac{3c-4}{4}\n",
    "\\end{cases}\n",
    "\\begin{cases}\n",
    "x_4=c\\\\  \n",
    "x_3=\\frac{3c-4}{4}\\\\\n",
    "x_2=\\frac{15c+4}{4}\\\\\n",
    "x_1=-c-2\n",
    "\\end{cases}$$"
   ]
  },
  {
   "cell_type": "markdown",
   "metadata": {},
   "source": [
    "__Ответ:__ $(-3, \\frac{19}{4}, \\frac74, 1)$ или _в более красивом виде_ $(-6, 16, 2, 4)$"
   ]
  },
  {
   "cell_type": "markdown",
   "metadata": {
    "id": "cTVfl123ZS5O"
   },
   "source": [
    "### __2.__ Проверить на совместность и выяснить, сколько решений будет иметь система линейных уравнений:\n",
    "\n",
    "а) $\\begin{cases}\n",
    "3x_{1}-x_{2}+x_{3}=4, \\\\\n",
    "2x_{1}-5x_{2}-3x_{3}=-17, \\\\\n",
    "x_{1}+x_{2}-x_{3}=0;\n",
    "\\end{cases}$"
   ]
  },
  {
   "cell_type": "markdown",
   "metadata": {},
   "source": [
    "$$\\begin{pmatrix}\n",
    "\\left.\\begin{matrix}\n",
    "3 & -1 & 1 \\\\\n",
    "2 & -5 & -3 \\\\\n",
    "1 & 1 & -1\n",
    "\\end{matrix}\\right|\n",
    "\\begin{matrix}\n",
    "4 \\\\\n",
    "-17 \\\\\n",
    "0\n",
    "\\end{matrix}\n",
    "\\end{pmatrix} \\Rightarrow\n",
    "\\begin{pmatrix}\n",
    "\\left.\\begin{matrix}\n",
    "1 & 1 & -1\\\\\n",
    "3 & -1 & 1 \\\\\n",
    "2 & -5 & -3 \\\\\n",
    "\\end{matrix}\\right|\n",
    "\\begin{matrix}\n",
    "0 \\\\\n",
    "-17 \\\\\n",
    "4\n",
    "\\end{matrix}\n",
    "\\end{pmatrix} \\Rightarrow\n",
    "\\begin{pmatrix}\n",
    "\\left.\\begin{matrix}\n",
    "1 & 1 & -1\\\\\n",
    "0 & -4 & 4 \\\\\n",
    "0 & -7 & -5 \\\\\n",
    "\\end{matrix}\\right|\n",
    "\\begin{matrix}\n",
    "0 \\\\\n",
    "-17 \\\\\n",
    "4\n",
    "\\end{matrix}\n",
    "\\end{pmatrix} \\Rightarrow\n",
    "\\begin{pmatrix}\n",
    "\\left.\\begin{matrix}\n",
    "1 & 1 & -1\\\\\n",
    "0 & -4 & 4 \\\\\n",
    "0 & 0 & -12 \\\\\n",
    "\\end{matrix}\\right|\n",
    "\\begin{matrix}\n",
    "0 \\\\\n",
    "-17 \\\\\n",
    "\\frac{135}{4}\n",
    "\\end{matrix}\n",
    "\\end{pmatrix}$$"
   ]
  },
  {
   "cell_type": "markdown",
   "metadata": {},
   "source": [
    "__Ответ:__ $rankA=rank\\tilde A = n = 3 \\Rightarrow$ СЛУ имеет единственное решение"
   ]
  },
  {
   "cell_type": "markdown",
   "metadata": {},
   "source": [
    "$$\\begin{cases}\n",
    "x_1+x_2-x_3=0\\\\\n",
    "-4x_2+4x_3=-17\\\\\n",
    "12x_3=\\frac{135}{4}\n",
    "\\end{cases}\n",
    "\\begin{cases}\n",
    "x_1=\\frac{17}{4}\\\\\n",
    "x_2=\\frac{1637}{4}\\\\\n",
    "x_3=-405\n",
    "\\end{cases}$$"
   ]
  },
  {
   "cell_type": "code",
   "execution_count": 2,
   "metadata": {},
   "outputs": [
    {
     "ename": "NameError",
     "evalue": "name 'a_2' is not defined",
     "output_type": "error",
     "traceback": [
      "\u001b[1;31m---------------------------------------------------------------------------\u001b[0m",
      "\u001b[1;31mNameError\u001b[0m                                 Traceback (most recent call last)",
      "\u001b[1;32m<ipython-input-2-5a898e3d97b3>\u001b[0m in \u001b[0;36m<module>\u001b[1;34m\u001b[0m\n\u001b[0;32m      1\u001b[0m \u001b[0ma_1\u001b[0m \u001b[1;33m=\u001b[0m \u001b[0mnp\u001b[0m\u001b[1;33m.\u001b[0m\u001b[0marray\u001b[0m\u001b[1;33m(\u001b[0m\u001b[1;33m[\u001b[0m\u001b[1;33m[\u001b[0m\u001b[1;36m3\u001b[0m\u001b[1;33m,\u001b[0m \u001b[1;33m-\u001b[0m\u001b[1;36m1\u001b[0m\u001b[1;33m,\u001b[0m \u001b[1;36m1\u001b[0m\u001b[1;33m]\u001b[0m\u001b[1;33m,\u001b[0m \u001b[1;33m[\u001b[0m\u001b[1;36m2\u001b[0m\u001b[1;33m,\u001b[0m \u001b[1;33m-\u001b[0m\u001b[1;36m5\u001b[0m\u001b[1;33m,\u001b[0m \u001b[1;33m-\u001b[0m\u001b[1;36m3\u001b[0m\u001b[1;33m]\u001b[0m\u001b[1;33m,\u001b[0m \u001b[1;33m[\u001b[0m\u001b[1;36m1\u001b[0m\u001b[1;33m,\u001b[0m \u001b[1;36m1\u001b[0m\u001b[1;33m,\u001b[0m \u001b[1;33m-\u001b[0m\u001b[1;36m1\u001b[0m\u001b[1;33m]\u001b[0m\u001b[1;33m]\u001b[0m\u001b[1;33m)\u001b[0m\u001b[1;33m\u001b[0m\u001b[1;33m\u001b[0m\u001b[0m\n\u001b[0;32m      2\u001b[0m \u001b[0mb_1\u001b[0m \u001b[1;33m=\u001b[0m \u001b[0mnp\u001b[0m\u001b[1;33m.\u001b[0m\u001b[0marray\u001b[0m\u001b[1;33m(\u001b[0m\u001b[1;33m[\u001b[0m\u001b[1;36m4\u001b[0m\u001b[1;33m,\u001b[0m \u001b[1;33m-\u001b[0m\u001b[1;36m17\u001b[0m\u001b[1;33m,\u001b[0m \u001b[1;36m0\u001b[0m\u001b[1;33m]\u001b[0m\u001b[1;33m)\u001b[0m\u001b[1;33m\u001b[0m\u001b[1;33m\u001b[0m\u001b[0m\n\u001b[1;32m----> 3\u001b[1;33m \u001b[0mrank_a_1\u001b[0m \u001b[1;33m=\u001b[0m \u001b[0mnp\u001b[0m\u001b[1;33m.\u001b[0m\u001b[0mlinalg\u001b[0m\u001b[1;33m.\u001b[0m\u001b[0mmatrix_rank\u001b[0m\u001b[1;33m(\u001b[0m\u001b[0ma_2\u001b[0m\u001b[1;33m)\u001b[0m\u001b[1;33m\u001b[0m\u001b[1;33m\u001b[0m\u001b[0m\n\u001b[0m\u001b[0;32m      4\u001b[0m \u001b[0mrank_b_1\u001b[0m \u001b[1;33m=\u001b[0m \u001b[0mnp\u001b[0m\u001b[1;33m.\u001b[0m\u001b[0mlinalg\u001b[0m\u001b[1;33m.\u001b[0m\u001b[0mmatrix_rank\u001b[0m\u001b[1;33m(\u001b[0m\u001b[0mnp\u001b[0m\u001b[1;33m.\u001b[0m\u001b[0mhstack\u001b[0m\u001b[1;33m(\u001b[0m\u001b[1;33m(\u001b[0m\u001b[0ma_1\u001b[0m\u001b[1;33m,\u001b[0m \u001b[0mb_1\u001b[0m\u001b[1;33m.\u001b[0m\u001b[0mreshape\u001b[0m\u001b[1;33m(\u001b[0m\u001b[1;36m3\u001b[0m\u001b[1;33m,\u001b[0m \u001b[1;33m-\u001b[0m\u001b[1;36m1\u001b[0m\u001b[1;33m)\u001b[0m\u001b[1;33m)\u001b[0m\u001b[1;33m)\u001b[0m\u001b[1;33m)\u001b[0m\u001b[1;33m\u001b[0m\u001b[1;33m\u001b[0m\u001b[0m\n\u001b[0;32m      5\u001b[0m \u001b[0mrank_a_1\u001b[0m \u001b[1;33m==\u001b[0m \u001b[0mrank_b_1\u001b[0m\u001b[1;33m\u001b[0m\u001b[1;33m\u001b[0m\u001b[0m\n",
      "\u001b[1;31mNameError\u001b[0m: name 'a_2' is not defined"
     ]
    }
   ],
   "source": [
    "a_1 = np.array([[3, -1, 1], [2, -5, -3], [1, 1, -1]])\n",
    "b_1 = np.array([4, -17, 0])\n",
    "rank_a_1 = np.linalg.matrix_rank(a_2)\n",
    "rank_b_1 = np.linalg.matrix_rank(np.hstack((a_1, b_1.reshape(3, -1))))\n",
    "rank_a_1 == rank_b_1"
   ]
  },
  {
   "cell_type": "markdown",
   "metadata": {
    "id": "cTVfl123ZS5O"
   },
   "source": [
    "б) $\\begin{cases}\n",
    "2x_{1}-4x_{2}+6x_{3}=1, \\\\\n",
    "x_{1}-2x_{2}+3x_{3}=-2, \\\\\n",
    "3x_{1}-6x_{2}+9x_{3}=5;\n",
    "\\end{cases}$"
   ]
  },
  {
   "cell_type": "markdown",
   "metadata": {},
   "source": [
    "$$\\begin{pmatrix}\n",
    "\\left.\\begin{matrix}\n",
    "2 & -4 & 6 \\\\\n",
    "1 & -2 & 3 \\\\\n",
    "3 & -6 & 9\n",
    "\\end{matrix}\\right|\n",
    "\\begin{matrix}\n",
    "1 \\\\\n",
    "-2 \\\\\n",
    "5\n",
    "\\end{matrix}\n",
    "\\end{pmatrix}$$"
   ]
  },
  {
   "cell_type": "markdown",
   "metadata": {},
   "source": [
    "Третья строка матрицы $A$ является линейной комбинацией первых двух, однако это суждение несправедливо для расширенной матрицы $(\\tilde A)$, следовательно $rankA < rank\\tilde A$, следовательно система несовместна."
   ]
  },
  {
   "cell_type": "code",
   "execution_count": null,
   "metadata": {},
   "outputs": [],
   "source": [
    "a_2 = np.array([[2, -4, 6], [1, -2, 3], [3, -6, 9]])\n",
    "b_2 = np.array([1, -2, 5])\n",
    "rank_a_2 = np.linalg.matrix_rank(a_2)\n",
    "rank_b_2 = np.linalg.matrix_rank(np.hstack((a_2, b_2.reshape(3, -1))))\n",
    "rank_a_2 < rank_b_2"
   ]
  },
  {
   "cell_type": "markdown",
   "metadata": {
    "id": "cTVfl123ZS5O"
   },
   "source": [
    "в) $\\begin{cases}\n",
    "x_{1}+2x_{2}+5x_{3}=4, \\\\\n",
    "3x_{1}+x_{2}-8x_{3}=-2. \n",
    "\\end{cases}$"
   ]
  },
  {
   "cell_type": "markdown",
   "metadata": {},
   "source": [
    "$$\\begin{pmatrix}\n",
    "\\left.\\begin{matrix}\n",
    "1 & 2 & 5 \\\\\n",
    "3 & 2 & -8 \\\\\n",
    "\\end{matrix}\\right|\n",
    "\\begin{matrix}\n",
    "4 \\\\\n",
    "-2 \\\\\n",
    "\\end{matrix}\n",
    "\\end{pmatrix} \\Rightarrow\n",
    "\\begin{pmatrix}\n",
    "\\left.\\begin{matrix}\n",
    "1 & 2 & 5 \\\\\n",
    "0 & -4 & -23 \\\\\n",
    "\\end{matrix}\\right|\n",
    "\\begin{matrix}\n",
    "4 \\\\\n",
    "-14 \\\\\n",
    "\\end{matrix}\n",
    "\\end{pmatrix}$$"
   ]
  },
  {
   "cell_type": "markdown",
   "metadata": {},
   "source": [
    "$rankA=rank\\tilde A < n$, следовательно СЛУ _совместная, неопределённая_ (система имеет бесконечное множество решений)"
   ]
  },
  {
   "cell_type": "markdown",
   "metadata": {},
   "source": [
    "$$\\begin{cases}\n",
    "x_3=с\\\\\n",
    "x_2=\\frac{14-23c}{4}\\\\\n",
    "x_1=4-5c-\\frac{14-23c}{2}\n",
    "\\end{cases}\n",
    "\\begin{cases}\n",
    "x_3=c\\\\\n",
    "x_2=\\frac{14-23c}{4}\\\\\n",
    "x_1=\\frac{22-33c}{2}\n",
    "\\end{cases}$$"
   ]
  },
  {
   "cell_type": "markdown",
   "metadata": {},
   "source": [
    "$$(-5,5, -2.25, 1)$$"
   ]
  },
  {
   "cell_type": "markdown",
   "metadata": {
    "id": "cTVfl123ZS5O"
   },
   "source": [
    "__3.__ Проверить на совместность и выяснить, сколько решений будет иметь система линейных уравнений, заданная расширенной матрицей\n",
    "\n",
    "$$\\tilde{A}=\\begin{pmatrix}\n",
    "\\left.\\begin{matrix}\n",
    "1 & 3 & -2 & 4\\\\ \n",
    "0 & 5 & 0 & 1\\\\ \n",
    "0 & 0 & 3 & 0\\\\ \n",
    "0 & 0 & 0 & 2\n",
    "\\end{matrix}\\right|\n",
    "\\begin{matrix}\n",
    "3\\\\ \n",
    "2\\\\\n",
    "4\\\\\n",
    "1\n",
    "\\end{matrix}\n",
    "\\end{pmatrix}$$"
   ]
  },
  {
   "cell_type": "code",
   "execution_count": null,
   "metadata": {},
   "outputs": [],
   "source": [
    "a_3 = np.array([[1, 3, -2, 4], [0, 5, 0, 1], [0, 0, 3, 0], [0, 0, 0, 2]])\n",
    "b_3 = np.array([3, 2, 4, 1])\n",
    "rank_a_3 = np.linalg.matrix_rank(a_3)\n",
    "rank_b_3 = np.linalg.matrix_rank(np.hstack((a_3, b_3.reshape(4, -1))))\n",
    "print(rank_a_3, rank_b_3)"
   ]
  },
  {
   "cell_type": "markdown",
   "metadata": {},
   "source": [
    "__Ответ:__ $rankA = rank\\tilde A = n = 4$, следовательно система совместна и определена (имеет единственное решение)."
   ]
  },
  {
   "cell_type": "markdown",
   "metadata": {},
   "source": [
    "$$\\begin{cases}\n",
    "x_1+3x_2-2x_3+4x_4=3\\\\\n",
    "5x_2+x_4=2\\\\\n",
    "3x_3=4\\\\\n",
    "2x_4=1\n",
    "\\end{cases}\n",
    "\\begin{cases}\n",
    "x_1=\\frac{83}{30}\\\\\n",
    "x_2=\\frac{3}{10}\\\\\n",
    "x_3=\\frac43\\\\\n",
    "x_4=\\frac12\n",
    "\\end{cases}$$"
   ]
  },
  {
   "cell_type": "markdown",
   "metadata": {},
   "source": [
    "Ответ СЛУ: $(\\frac{83}{30}, \\frac{3}{10}, \\frac43, \\frac12)$"
   ]
  },
  {
   "cell_type": "markdown",
   "metadata": {
    "id": "cTVfl123ZS5O"
   },
   "source": [
    "__4.__ Дана система линейных уравнений, заданная расширенной матрицей\n",
    "\n",
    "$$\\tilde{A}=\\begin{pmatrix}\n",
    "\\left.\\begin{matrix}\n",
    "1 & 2 & 3\\\\ \n",
    "4 & 5 & 6\\\\ \n",
    "7 & 8 & 9\n",
    "\\end{matrix}\\right|\n",
    "\\begin{matrix}\n",
    "a\\\\ \n",
    "b\\\\\n",
    "c\n",
    "\\end{matrix}\n",
    "\\end{pmatrix}.$$\n",
    "\n",
    "Найти соотношение между параметрами $a$, $b$ и $c$, при которых система является несовместной."
   ]
  },
  {
   "cell_type": "markdown",
   "metadata": {},
   "source": [
    "$$\\begin{pmatrix}\n",
    "\\left.\\begin{matrix}\n",
    "1 & 2 & 3 \\\\\n",
    "4 & 5 & 6 \\\\\n",
    "7 & 8 & 9\n",
    "\\end{matrix}\\right|\n",
    "\\begin{matrix}\n",
    "a \\\\\n",
    "b \\\\\n",
    "c\n",
    "\\end{matrix}\n",
    "\\end{pmatrix} \\Rightarrow\n",
    "\\begin{pmatrix}\n",
    "\\left.\\begin{matrix}\n",
    "1 & 2 & 3\\\\\n",
    "0 & -3 & -6 \\\\\n",
    "0 & -6 & -12 \\\\\n",
    "\\end{matrix}\\right|\n",
    "\\begin{matrix}\n",
    "a \\\\\n",
    "b-4a \\\\\n",
    "c-7a\n",
    "\\end{matrix}\n",
    "\\end{pmatrix}$$"
   ]
  },
  {
   "cell_type": "markdown",
   "metadata": {},
   "source": [
    "строки 2 и 3 матрицы $A$ линейны зависимы, следовательно $rankA < 3$. Чтобы СЛУ являлась несовместной, $rank\\tilde A$ должна равняться 3, а значит $2(b-4a) \\neq c-7a$"
   ]
  },
  {
   "cell_type": "markdown",
   "metadata": {},
   "source": [
    "$$2b-8a\\neq c-7a$$  \n",
    "$$a \\neq 2b-c$$"
   ]
  },
  {
   "cell_type": "markdown",
   "metadata": {},
   "source": [
    "Система является несовместной при любых значениях $a, b,c$, которые выполняют следующее неравенство $a\\neq 2b-c$"
   ]
  },
  {
   "cell_type": "markdown",
   "metadata": {},
   "source": [
    "$$\\forall a,\\forall b,\\forall c |\\{a\\neq 2b-c\\}$$"
   ]
  },
  {
   "cell_type": "markdown",
   "metadata": {
    "id": "6hmx96_WfPKd"
   },
   "source": [
    "## Практическое задание 7"
   ]
  },
  {
   "cell_type": "markdown",
   "metadata": {
    "id": "ZBi7FV66fPKf"
   },
   "source": [
    "### __1.__ Решить систему уравнений методом Крамера:\n",
    "\n",
    "   а) $\\begin{cases}\n",
    "x_{1}-2x_{2}=1 \\\\\n",
    "3x_{1}-4x_{2}=7\n",
    "\\end{cases}$"
   ]
  },
  {
   "cell_type": "markdown",
   "metadata": {},
   "source": [
    "Первоначально проверим на вырожденность (т.е. $detA\\neq0$)"
   ]
  },
  {
   "cell_type": "markdown",
   "metadata": {},
   "source": [
    "$$detA=1\\cdot(-4)-3\\cdot(-2)=-4+6=2$$"
   ]
  },
  {
   "cell_type": "markdown",
   "metadata": {},
   "source": [
    "$$\\begin{pmatrix}\n",
    "\\left.\\begin{matrix}\n",
    "1 & -2 \\\\\n",
    "3 & -4 \\\\\n",
    "\\end{matrix}\\right|\n",
    "\\begin{matrix}\n",
    "1 \\\\\n",
    "7 \\\\\n",
    "\\end{matrix}\n",
    "\\end{pmatrix}$$"
   ]
  },
  {
   "cell_type": "markdown",
   "metadata": {},
   "source": [
    "$$detA_1=\n",
    "\\begin{vmatrix}\n",
    "1 & -2\\\\\n",
    "7 & -4\\\\\n",
    "\\end{vmatrix} = -4 + 14 = 10$$"
   ]
  },
  {
   "cell_type": "markdown",
   "metadata": {},
   "source": [
    "$$detA_2=\n",
    "\\begin{vmatrix}\n",
    "1 & 1\\\\\n",
    "3 & 7\\\\\n",
    "\\end{vmatrix} = 7 - 3 = 4$$"
   ]
  },
  {
   "cell_type": "markdown",
   "metadata": {},
   "source": [
    "$$x_1=\\frac{detA_1}{detA} = \\frac{10}2=5\\enspace x_2=\\frac42=2$$"
   ]
  },
  {
   "cell_type": "markdown",
   "metadata": {},
   "source": [
    "__Ответ:__ $(5, 2)$"
   ]
  },
  {
   "cell_type": "markdown",
   "metadata": {
    "id": "ZBi7FV66fPKf"
   },
   "source": [
    "б) $\\begin{cases}\n",
    "2x_{1}-x_{2}+5x_{3}=10 \\\\\n",
    "x_{1}+x_{2}-3x_{3}=-2 \\\\\n",
    "2x_{1}+4x_{2}+x_{3}=1\n",
    "\\end{cases}$"
   ]
  },
  {
   "cell_type": "markdown",
   "metadata": {},
   "source": [
    "Первоначально проверим на вырожденность (т.е. $detA\\neq0$)"
   ]
  },
  {
   "cell_type": "markdown",
   "metadata": {},
   "source": [
    "$$detA=\n",
    "\\begin{vmatrix}\n",
    "2 & -1 & 5\\\\\n",
    "1 & 1 & -3\\\\\n",
    "2 & 4 & 1\n",
    "\\end{vmatrix} = 2(1+12)+1(1+6)+5(4-2)=26+7+10=43$$"
   ]
  },
  {
   "cell_type": "markdown",
   "metadata": {},
   "source": [
    "$$\\begin{pmatrix}\n",
    "\\left.\\begin{matrix}\n",
    "2 & -1 & 5\\\\\n",
    "1 & 1 & -3\\\\\n",
    "2 & 4 & 1\n",
    "\\end{matrix}\\right|\n",
    "\\begin{matrix}\n",
    "10 \\\\\n",
    "-2 \\\\\n",
    "1\n",
    "\\end{matrix}\n",
    "\\end{pmatrix}$$"
   ]
  },
  {
   "cell_type": "markdown",
   "metadata": {},
   "source": [
    "$$detA_1=\n",
    "\\begin{vmatrix}\n",
    "10 & -1 & 5\\\\\n",
    "-2 & 1 & -3\\\\\n",
    "1 & 4 & 1\n",
    "\\end{vmatrix} = 10(1+12)+1(-2+3)+5(-8-1)=130+1-45=86$$"
   ]
  },
  {
   "cell_type": "markdown",
   "metadata": {},
   "source": [
    "$$detA_2=\n",
    "\\begin{vmatrix}\n",
    "2 & 10 & 5\\\\\n",
    "1 & -2 & -3\\\\\n",
    "2 & 1 & 1\n",
    "\\end{vmatrix} = 2(-2+3)-10(1+6)+5(1+4)=2-70+25=-43$$"
   ]
  },
  {
   "cell_type": "markdown",
   "metadata": {},
   "source": [
    "$$detA_3=\n",
    "\\begin{vmatrix}\n",
    "2 & -1 & 10\\\\\n",
    "1 & 1 & -2\\\\\n",
    "2 & 4 & 1\n",
    "\\end{vmatrix} = 2(1+8)+1(1+4)+10(4-2)=18+5+20=43$$"
   ]
  },
  {
   "cell_type": "markdown",
   "metadata": {},
   "source": [
    "$$x_1=\\frac{detA_1}{detA} = \\frac{86}{43}=2\\enspace x_2=\\frac{detA_2}{detA} =\\frac{-43}{43}=-1\\enspace x_3=\\frac{detA_3}{detA} =\\frac{43}{43}=1$$"
   ]
  },
  {
   "cell_type": "markdown",
   "metadata": {},
   "source": [
    "__Ответ:__ $(2, -1, 1)$"
   ]
  },
  {
   "cell_type": "markdown",
   "metadata": {
    "id": "ZBi7FV66fPKf"
   },
   "source": [
    "### __2*.__ Найти $L$-матрицу $LU$-разложения для матрицы коэффициентов:\n",
    "\n",
    "   а)$$\\begin{pmatrix}\n",
    "1 & 2 & 4 \\\\ \n",
    "2 & 9 & 12 \\\\ \n",
    "3 & 26 & 30\n",
    "\\end{pmatrix}$$"
   ]
  },
  {
   "cell_type": "markdown",
   "metadata": {},
   "source": [
    "$$\\begin{pmatrix}\n",
    "1 & 2 & 4\\\\\n",
    "0 & 5 & 4\\\\\n",
    "0 & 20 & 18\n",
    "\\end{pmatrix}\\enspace M_1= \\begin{pmatrix}\n",
    "1 & 0 & 0\\\\\n",
    "2 & 1 & 0\\\\\n",
    "3 & 0 & 1\n",
    "\\end{pmatrix}$$"
   ]
  },
  {
   "cell_type": "markdown",
   "metadata": {},
   "source": [
    "$$\\begin{pmatrix}\n",
    "1 & 2 & 4\\\\\n",
    "0 & 5 & 4\\\\\n",
    "0 & 0 & 2\n",
    "\\end{pmatrix}\\enspace M_2= \\begin{pmatrix}\n",
    "1 & 0 & 0\\\\\n",
    "0 & 1 & 0\\\\\n",
    "0 & 4.8 & 1\n",
    "\\end{pmatrix}$$"
   ]
  },
  {
   "cell_type": "markdown",
   "metadata": {},
   "source": [
    "__Ответ:__$L=\\begin{pmatrix}\n",
    "1 & 0 & 0\\\\\n",
    "2 & 1 & 0\\\\\n",
    "3 & 4.8 & 1\n",
    "\\end{pmatrix}$"
   ]
  },
  {
   "cell_type": "markdown",
   "metadata": {
    "id": "ZBi7FV66fPKf"
   },
   "source": [
    "б)$$\\begin{pmatrix}\n",
    "1 & 1 & 2 & 4\\\\ \n",
    "2 & 5 & 8 & 9\\\\ \n",
    "3 & 18 & 29 & 18\\\\\n",
    "4 & 22 & 53 & 33\n",
    "\\end{pmatrix}$$"
   ]
  },
  {
   "cell_type": "markdown",
   "metadata": {},
   "source": [
    "$$\\begin{pmatrix}\n",
    "1 & 1 & 2 & 4\\\\\n",
    "0 & 3 & 4 & 1\\\\\n",
    "0 & 15 & 23 & 6\\\\\n",
    "0 & 18 & 45 & 17\n",
    "\\end{pmatrix}\\enspace M_1= \\begin{pmatrix}\n",
    "1 & 0 & 0 & 0\\\\\n",
    "2 & 1 & 0 & 0\\\\\n",
    "3 & 0 & 1 & 0\\\\\n",
    "4 & 0 & 0 & 1\n",
    "\\end{pmatrix}$$"
   ]
  },
  {
   "cell_type": "markdown",
   "metadata": {},
   "source": [
    "$$\\begin{pmatrix}\n",
    "1 & 1 & 2 & 4\\\\\n",
    "0 & 3 & 4 & 1\\\\\n",
    "0 & 0 & 3 & 1\\\\\n",
    "0 & 0 & 9 & 8\n",
    "\\end{pmatrix}\\enspace M_2= \\begin{pmatrix}\n",
    "1 & 0 & 0 & 0\\\\\n",
    "0 & 1 & 0 & 0\\\\\n",
    "0 & 5 & 1 & 0\\\\\n",
    "0 & 6 & 0 & 1\n",
    "\\end{pmatrix}$$"
   ]
  },
  {
   "cell_type": "markdown",
   "metadata": {},
   "source": [
    "$$\\begin{pmatrix}\n",
    "1 & 1 & 2 & 4\\\\\n",
    "0 & 3 & 4 & 1\\\\\n",
    "0 & 0 & 3 & 1\\\\\n",
    "0 & 0 & 0 & 5\n",
    "\\end{pmatrix}\\enspace M_3= \\begin{pmatrix}\n",
    "1 & 0 & 0 & 0\\\\\n",
    "0 & 1 & 0 & 0\\\\\n",
    "0 & 0 & 1 & 0\\\\\n",
    "0 & 0 & 3 & 1\n",
    "\\end{pmatrix}$$"
   ]
  },
  {
   "cell_type": "markdown",
   "metadata": {},
   "source": [
    "__Ответ:__$L=\\begin{pmatrix}\n",
    "1 & 0 & 0 & 0\\\\\n",
    "2 & 1 & 0 & 0\\\\\n",
    "3 & 5 & 1 & 0\\\\\n",
    "4 & 6 & 3 & 1\n",
    "\\end{pmatrix}$"
   ]
  },
  {
   "cell_type": "markdown",
   "metadata": {
    "id": "ZBi7FV66fPKf"
   },
   "source": [
    "### __3*.__ Решить систему линейных уравнений методом $LU$-разложения\n",
    "\n",
    "$$\\begin{cases}\n",
    "2x_{1}+x_{2}+3x_{3}=1 \\\\\n",
    "11x_{1}+7x_{2}+5x_{3}=-6 \\\\\n",
    "9x_{1}+8x_{2}+4x_{3}=-5\n",
    "\\end{cases}$$"
   ]
  },
  {
   "cell_type": "markdown",
   "metadata": {},
   "source": [
    "$$detA = \\begin{vmatrix}\n",
    "2 & 1 & 3\\\\\n",
    "11 & 7 & 5\\\\\n",
    "9 & 8 & 4\n",
    "\\end{vmatrix}=2(28-30)-(44-45)+3(88-63)=-4-1+75=70$$"
   ]
  },
  {
   "cell_type": "markdown",
   "metadata": {},
   "source": [
    "$$A=\\begin{pmatrix}\n",
    "2 & 1 & 3\\\\\n",
    "11 & 7 & 5\\\\\n",
    "9 & 8 & 4\n",
    "\\end{pmatrix}\\enspace b= \\begin{pmatrix}\n",
    "1\\\\\n",
    "-6\\\\\n",
    "-5\n",
    "\\end{pmatrix}$$"
   ]
  },
  {
   "cell_type": "markdown",
   "metadata": {},
   "source": [
    "$$Ax=B \\Rightarrow LUx=b$$"
   ]
  },
  {
   "cell_type": "markdown",
   "metadata": {},
   "source": [
    "$$\\begin{pmatrix}\n",
    "2 & 1 & 3\\\\\n",
    "0 & 1.5 & -11.5\\\\\n",
    "0 & 3.5 & -9.5\n",
    "\\end{pmatrix}\\enspace M_1= \\begin{pmatrix}\n",
    "1 & 0 & 0\\\\\n",
    "5.5 & 1 & 0\\\\\n",
    "4.5 & 0 & 1\n",
    "\\end{pmatrix}$$"
   ]
  },
  {
   "cell_type": "markdown",
   "metadata": {},
   "source": [
    "$$\\begin{pmatrix}\n",
    "2 & 1 & 3\\\\\n",
    "0 & 1.5 & -11.5\\\\\n",
    "0 & 0 & \\frac{52}{3}\n",
    "\\end{pmatrix}\\enspace M_2= \\begin{pmatrix}\n",
    "1 & 0 & 0\\\\\n",
    "0 & 1 & 0\\\\\n",
    "0 & \\frac{7}{3} & 1\n",
    "\\end{pmatrix}$$"
   ]
  },
  {
   "cell_type": "markdown",
   "metadata": {},
   "source": [
    "$$U=\\begin{pmatrix}\n",
    "2 & 1 & 3\\\\\n",
    "0 & 1.5 & -11.5\\\\\n",
    "0 & 0 & \\frac{52}{3}\n",
    "\\end{pmatrix}\\enspace L= \\begin{pmatrix}\n",
    "1 & 0 & 0\\\\\n",
    "5.5 & 1 & 0\\\\\n",
    "4.5 & \\frac{7}{3} & 1\n",
    "\\end{pmatrix}$$"
   ]
  },
  {
   "cell_type": "markdown",
   "metadata": {},
   "source": [
    "$$Ly=b$$"
   ]
  },
  {
   "cell_type": "markdown",
   "metadata": {},
   "source": [
    "$$\\begin{cases}\n",
    "y_1=1\\\\\n",
    "5.5y_1+y_2=-6\\\\\n",
    "4.5y_1+\\frac73y_2+y_3=-5\n",
    "\\end{cases}\n",
    "\\begin{cases}\n",
    "y_1=1\\\\\n",
    "y_2=-11.5\\\\\n",
    "y_3=-\\frac{52}{3}\n",
    "\\end{cases}$$"
   ]
  },
  {
   "cell_type": "markdown",
   "metadata": {},
   "source": [
    "$$Ux=y$$"
   ]
  },
  {
   "cell_type": "markdown",
   "metadata": {},
   "source": [
    "$$\\begin{cases}\n",
    "2x_1+x_2+3x_3=1\\\\\n",
    "1.5x_2-11.5x_3=-11.5\\\\\n",
    "\\frac{52}{3}x_3=-\\frac{52}{3}\n",
    "\\end{cases}\n",
    "\\begin{cases}\n",
    "x_1=-1\\\\\n",
    "x_2=0\\\\\n",
    "x_3=1\n",
    "\\end{cases}$$"
   ]
  },
  {
   "cell_type": "markdown",
   "metadata": {},
   "source": [
    "__Ответ:__ $(-1, 0, 1)$"
   ]
  },
  {
   "cell_type": "markdown",
   "metadata": {
    "id": "ZBi7FV66fPKf"
   },
   "source": [
    "### __4*.__ Решить систему линейных уравнений методом Холецкого\n",
    "\n",
    "$$\\begin{cases}\n",
    "81x_{1}-45x_{2}+45x_{3}=531 \\\\\n",
    "-45x_{1}+50x_{2}-15x_{3}=-460 \\\\\n",
    "45x_{1}-15x_{2}+38x_{3}=193\n",
    "\\end{cases}$$"
   ]
  },
  {
   "cell_type": "code",
   "execution_count": null,
   "metadata": {},
   "outputs": [],
   "source": [
    "a = np.array([[81, -45, 45], [-45, 50, -15], [45, -15, 38]])\n",
    "np.linalg.eig(a)"
   ]
  },
  {
   "cell_type": "markdown",
   "metadata": {
    "id": "ogYcA0McfPKK"
   },
   "source": [
    "элементы матрицы $L$ для нахождения $LL^{T}$-разложения вычисляются по следуюшим формулам:\n",
    "\n",
    "$$l_{ii}=\\sqrt{a_{ii}-\\sum_{k=1}^{i-1}l_{ik}^{2}},$$\n",
    "$$l_{ij}=\\frac{1}{l_{jj}}\\left( a_{ij}-\\sum_{k=1}^{j-1}l_{ik}l_{jk}\\right ), \\; j < i.$$"
   ]
  },
  {
   "cell_type": "markdown",
   "metadata": {
    "id": "fXTc7djCfPKQ"
   },
   "source": [
    "Произведем разложение на $LL^{T}$:\n",
    "\n",
    "$$l_{11}=\\sqrt{a_{11}}=\\sqrt{81}=9,$$\n",
    "$$l_{21}=\\frac{a_{21}}{l_{11}}=\\frac{-45}{9}=-5$$\n",
    "$$l_{31}=\\frac{a_{31}}{l_{11}}=\\frac{45}{9}=5$$  \n",
    "  \n",
    "$$l_{22}=\\sqrt{a_{22}-l_{21}^{2}}=\\sqrt{50 - 25}=5$$\n",
    "$$l_{32}=\\frac{1}{l_{22}}\\left ( a_{32}-l_{21}l_{31} \\right)=\\frac15\\left (-15 + 5\\cdot5 \\right )=2$$  \n",
    "  \n",
    "$$l_{33}=\\sqrt{a_{33}-l_{31}^{2}-l_{32}^{2}}=\\sqrt{38-25-4}=3$$"
   ]
  },
  {
   "cell_type": "markdown",
   "metadata": {
    "id": "NOxrKaICfPKT"
   },
   "source": [
    "Получили матрицу \n",
    "\n",
    "$$L = \\begin{pmatrix}\n",
    "9 & 0 & 0 \\\\ \n",
    "-5 & 5 & 0 \\\\ \n",
    "5 & 2 & 3\n",
    "\\end{pmatrix} \n",
    "\\; \\; \n",
    "L^{T} = \\begin{pmatrix}\n",
    "9 & -5 & 5 \\\\ \n",
    "0 & 5 & 2 \\\\ \n",
    "0 & 0 & 3\n",
    "\\end{pmatrix}.$$"
   ]
  },
  {
   "cell_type": "markdown",
   "metadata": {
    "id": "3JC07czjfPKV"
   },
   "source": [
    "Решим систему $Ly=b$\n",
    "\n",
    "$$\\begin{cases}\n",
    "9y_{1}=531 \\\\\n",
    "-5y_{1}+5y_{2}=-460 \\\\\n",
    "5y_{1}+2y_{2}+3y_{3}=193\n",
    "\\end{cases}\n",
    "\\begin{cases}\n",
    "y_{1} = 59\\\\\n",
    "y_{2}=\\frac{-460+5\\cdot59}{5}=-33\\\\\n",
    "y_{3}=\\frac{193-295+66}{3}=-12\n",
    "\\end{cases}$$"
   ]
  },
  {
   "cell_type": "markdown",
   "metadata": {
    "id": "MK4RaNxffPKX"
   },
   "source": [
    "И решим систему $L^{T}x=y$\n",
    "\n",
    "$$\\begin{cases}\n",
    "9x_{1}-5x_{2}+5x_{3}=59\\\\\n",
    "5x_{2}+2x_{3}=-33\\\\\n",
    "3x_{3}=-12\n",
    "\\end{cases}\n",
    "\\begin{cases}\n",
    "x_{1}=6\\\\\n",
    "x_{2}=-5\\\\\n",
    "x_{3}=-4\n",
    "\\end{cases}$$"
   ]
  },
  {
   "cell_type": "markdown",
   "metadata": {
    "id": "BKOIO_3EfPKZ"
   },
   "source": [
    "Осуществим проверку, подставив полученные значения в исходную систему:\n",
    "\n",
    "$$\\begin{cases}\n",
    "81\\cdot(6)-45\\cdot(-5)+45\\cdot(-4)=531 \\\\\n",
    "-45\\cdot6+50\\cdot(-5)-15\\cdot(-4)=-460 \\\\\n",
    "45\\cdot6-15\\cdot(-5)+38\\cdot(-4)=193\n",
    "\\end{cases}$$"
   ]
  },
  {
   "cell_type": "code",
   "execution_count": null,
   "metadata": {},
   "outputs": [],
   "source": [
    "81 * 6 + 45 * 5 + 45 * -4"
   ]
  },
  {
   "cell_type": "code",
   "execution_count": null,
   "metadata": {},
   "outputs": [],
   "source": [
    "-45 * 6 + 50 * -5 - 15 * -4"
   ]
  },
  {
   "cell_type": "code",
   "execution_count": null,
   "metadata": {},
   "outputs": [],
   "source": [
    "45 * 6 + 15 * 5 - 38 * 4"
   ]
  },
  {
   "cell_type": "markdown",
   "metadata": {
    "id": "ZBi7FV66fPKf"
   },
   "source": [
    "### __5*.__ Написать на Python программу с реализацией одного из изученных алгоритмов решения СЛАУ."
   ]
  },
  {
   "cell_type": "code",
   "execution_count": null,
   "metadata": {},
   "outputs": [],
   "source": [
    "import math\n",
    "\n",
    "\n",
    "class MyError(Exception):\n",
    "    def __init__(self, text):\n",
    "        self.txt = text\n",
    "\n",
    "\n",
    "def rows_len_check(matrix): \n",
    "    \"\"\"\n",
    "    функция для сравнения количества элементов в строках. Она нам ещё пригодится :)\n",
    "    \"\"\"\n",
    "    if len(matrix) != len([el for el in matrix if len(el) == len(matrix[0])]):\n",
    "        raise MyError('Количество элементов в строках матрицы должны совпадать')\n",
    "\n",
    "\n",
    "def rows1_columns2_check(matrix1, matrix2):\n",
    "    \"\"\"\n",
    "    функция для сравнения количества столбцов в первой матрице с количеством строк во второй. Она нам ещё пригодится :)\n",
    "    \"\"\"\n",
    "    if len(matrix2) != len(matrix1[0]):\n",
    "        raise MyError('Количество столбцов первой матрицы должно совподать с количеством строк во второй матрице')\n",
    "\n",
    "\n",
    "def simmetic_check(matrix):\n",
    "    for i in range(len(matrix)):\n",
    "        for j in range(len(matrix)):\n",
    "            if matrix[i][j] != matrix[j][i]:\n",
    "                raise MyError('Матрица несиметрична. Данный метод не применим. Используйте другой')\n",
    "\n",
    "                \n",
    "def matrix_det(matrix):\n",
    "    rows_len_check(matrix)\n",
    "    rows1_columns2_check(matrix, matrix)\n",
    "    det = 0\n",
    "    if len(matrix) == 2:\n",
    "        return matrix[0][0] * matrix[1][1] - matrix[0][1] * matrix[1][0]\n",
    "    for i, num in enumerate(matrix[0]):\n",
    "        det += (-1) ** i * num * matrix_det(\n",
    "            [[el for j, el in enumerate(vector) if j != i] for k, vector in enumerate(matrix) if k > 0]\n",
    "        )\n",
    "    return det\n",
    "\n",
    "\n",
    "def det_check(matrix):\n",
    "    if matrix_det(matrix) == 0:\n",
    "        raise MyError('Матрица вырождена. Данный метод не применим. Используйте другой')\n",
    "\n",
    "\n",
    "def holeckiy(matrix: [list], b: []) -> []:\n",
    "    rows1_columns2_check(matrix, matrix)\n",
    "    rows1_columns2_check(matrix, b)\n",
    "    det_check(matrix)\n",
    "    simmetic_check(matrix)\n",
    "    L = []\n",
    "    for i, el_i in enumerate(matrix):\n",
    "        L.append([])\n",
    "        for j, el_j in enumerate(el_i):\n",
    "            if j == i:\n",
    "                L[i].append(math.sqrt(el_j - sum([L[i][k] ** 2 for k in range(i)])))\n",
    "            elif j < i:\n",
    "                L[i].append((el_j - sum([L[i][k] * L[j][k] for k in range(j)])) / L[j][j])\n",
    "    y = []\n",
    "    for i, el_i in enumerate(b):\n",
    "        y.append((el_i - sum([L[i][j] * y[j] for j in range(i)])) / L[i][i])\n",
    "    x = []\n",
    "    size = len(b)\n",
    "    for i, el_i in enumerate(reversed(y)):\n",
    "        x.append((el_i - sum([L[size - j - 1][size - i - 1] * x[j] for j in range(i)])) / L[size - i - 1][size - i - 1])\n",
    "    print(x)"
   ]
  },
  {
   "cell_type": "code",
   "execution_count": null,
   "metadata": {},
   "outputs": [],
   "source": [
    "a = [[81, -45, 45],\n",
    "     [-45,  50, -15],\n",
    "     [45, -15, 38]]\n",
    "b = [531, -460, 193]\n",
    "holeckiy(a, b)"
   ]
  }
 ],
 "metadata": {
  "kernelspec": {
   "display_name": "Python 3",
   "language": "python",
   "name": "python3"
  },
  "language_info": {
   "codemirror_mode": {
    "name": "ipython",
    "version": 3
   },
   "file_extension": ".py",
   "mimetype": "text/x-python",
   "name": "python",
   "nbconvert_exporter": "python",
   "pygments_lexer": "ipython3",
   "version": "3.8.5"
  }
 },
 "nbformat": 4,
 "nbformat_minor": 4
}
