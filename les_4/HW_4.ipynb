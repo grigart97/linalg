{
 "cells": [
  {
   "cell_type": "markdown",
   "metadata": {
    "id": "J2D422I0ZS5N"
   },
   "source": [
    "## Практическое задание 6"
   ]
  },
  {
   "cell_type": "code",
   "execution_count": 1,
   "metadata": {},
   "outputs": [],
   "source": [
    "import numpy as np"
   ]
  },
  {
   "cell_type": "markdown",
   "metadata": {
    "id": "cTVfl123ZS5O"
   },
   "source": [
    "### __1.__ Решить систему уравнений методом Гаусса:\n",
    "\n",
    "$$\\begin{cases}\n",
    "x_{1}+x_{2}-x_{3}-2x_{4}=0, \\\\\n",
    "2x_{1}+x_{2}-x_{3}+x_{4}=-2, \\\\\n",
    "x_{1}+x_{2}-3x_{3}+x_{4}=4.\n",
    "\\end{cases}$$"
   ]
  },
  {
   "cell_type": "markdown",
   "metadata": {},
   "source": [
    "$$\\begin{pmatrix}\n",
    "\\left.\\begin{matrix}\n",
    "1 & 1 & -1 & -2 \\\\\n",
    "2 & 1 & -1 & 1 \\\\\n",
    "1 & 1 & -3 & 1\n",
    "\\end{matrix}\\right|\n",
    "\\begin{matrix}\n",
    "0 \\\\\n",
    "-2 \\\\\n",
    "4\n",
    "\\end{matrix}\n",
    "\\end{pmatrix}$$"
   ]
  },
  {
   "cell_type": "markdown",
   "metadata": {},
   "source": [
    "$$\\begin{pmatrix}\n",
    "\\left.\\begin{matrix}\n",
    "1 & 1 & -1 & -2 \\\\\n",
    "0 & -1 & 1 & 3 \\\\\n",
    "0 & 0 & -4 & 3\n",
    "\\end{matrix}\\right|\n",
    "\\begin{matrix}\n",
    "0 \\\\\n",
    "-2 \\\\\n",
    "4\n",
    "\\end{matrix}\n",
    "\\end{pmatrix}$$"
   ]
  },
  {
   "cell_type": "markdown",
   "metadata": {},
   "source": [
    "$rankA = 4,\\,rank\\tilde A=3,\\,n=3\\Rightarrow$ система имеет бесконечное множество решений"
   ]
  },
  {
   "cell_type": "markdown",
   "metadata": {},
   "source": [
    "$$\\begin{cases}\n",
    "x_1+x_2-x_3-2x_4=0\\\\\n",
    "-x_2+x_3+3x_4=-2\\\\\n",
    "-4x_3+3x_4=4\n",
    "\\end{cases}\n",
    "\\begin{cases}\n",
    "x_4=c\\\\  \n",
    "x_3=\\frac{3c-4}{4}\\\\\n",
    "x_2=2+3c+\\frac{3c-4}{4}\\\\\n",
    "x_1=2c+\\frac{3c-4}{4}-2-3c-\\frac{3c-4}{4}\n",
    "\\end{cases}\n",
    "\\begin{cases}\n",
    "x_4=c\\\\  \n",
    "x_3=\\frac{3c-4}{4}\\\\\n",
    "x_2=\\frac{15c+4}{4}\\\\\n",
    "x_1=-c-2\n",
    "\\end{cases}$$"
   ]
  },
  {
   "cell_type": "markdown",
   "metadata": {},
   "source": [
    "__Ответ:__ $(-3, \\frac{19}{4}, \\frac74, 1)$ или _в более красивом виде_ $(-6, 16, 2, 4)$"
   ]
  },
  {
   "cell_type": "markdown",
   "metadata": {
    "id": "cTVfl123ZS5O"
   },
   "source": [
    "### __2.__ Проверить на совместность и выяснить, сколько решений будет иметь система линейных уравнений:\n",
    "\n",
    "а) $\\begin{cases}\n",
    "3x_{1}-x_{2}+x_{3}=4, \\\\\n",
    "2x_{1}-5x_{2}-3x_{3}=-17, \\\\\n",
    "x_{1}+x_{2}-x_{3}=0;\n",
    "\\end{cases}$"
   ]
  },
  {
   "cell_type": "markdown",
   "metadata": {},
   "source": [
    "$$\\begin{pmatrix}\n",
    "\\left.\\begin{matrix}\n",
    "3 & -1 & 1 \\\\\n",
    "2 & -5 & -3 \\\\\n",
    "1 & 1 & -1\n",
    "\\end{matrix}\\right|\n",
    "\\begin{matrix}\n",
    "4 \\\\\n",
    "-17 \\\\\n",
    "0\n",
    "\\end{matrix}\n",
    "\\end{pmatrix} \\Rightarrow\n",
    "\\begin{pmatrix}\n",
    "\\left.\\begin{matrix}\n",
    "1 & 1 & -1\\\\\n",
    "3 & -1 & 1 \\\\\n",
    "2 & -5 & -3 \\\\\n",
    "\\end{matrix}\\right|\n",
    "\\begin{matrix}\n",
    "0 \\\\\n",
    "-17 \\\\\n",
    "4\n",
    "\\end{matrix}\n",
    "\\end{pmatrix} \\Rightarrow\n",
    "\\begin{pmatrix}\n",
    "\\left.\\begin{matrix}\n",
    "1 & 1 & -1\\\\\n",
    "0 & -4 & 4 \\\\\n",
    "0 & -7 & -5 \\\\\n",
    "\\end{matrix}\\right|\n",
    "\\begin{matrix}\n",
    "0 \\\\\n",
    "-17 \\\\\n",
    "4\n",
    "\\end{matrix}\n",
    "\\end{pmatrix} \\Rightarrow\n",
    "\\begin{pmatrix}\n",
    "\\left.\\begin{matrix}\n",
    "1 & 1 & -1\\\\\n",
    "0 & -4 & 4 \\\\\n",
    "0 & 0 & -12 \\\\\n",
    "\\end{matrix}\\right|\n",
    "\\begin{matrix}\n",
    "0 \\\\\n",
    "-17 \\\\\n",
    "\\frac{135}{4}\n",
    "\\end{matrix}\n",
    "\\end{pmatrix}$$"
   ]
  },
  {
   "cell_type": "markdown",
   "metadata": {},
   "source": [
    "__Ответ:__ $rankA=rank\\tilde A = n = 3 \\Rightarrow$ СЛУ имеет единственное решение"
   ]
  },
  {
   "cell_type": "markdown",
   "metadata": {},
   "source": [
    "$$\\begin{cases}\n",
    "x_1+x_2-x_3=0\\\\\n",
    "-4x_2+4x_3=-17\\\\\n",
    "12x_3=\\frac{135}{4}\n",
    "\\end{cases}\n",
    "\\begin{cases}\n",
    "x_1=\\frac{17}{4}\\\\\n",
    "x_2=\\frac{1637}{4}\\\\\n",
    "x_3=-405\n",
    "\\end{cases}$$"
   ]
  },
  {
   "cell_type": "code",
   "execution_count": 23,
   "metadata": {},
   "outputs": [
    {
     "data": {
      "text/plain": [
       "True"
      ]
     },
     "execution_count": 23,
     "metadata": {},
     "output_type": "execute_result"
    }
   ],
   "source": [
    "a_1 = np.array([[3, -1, 1], [2, -5, -3], [1, 1, -1]])\n",
    "b_1 = np.array([4, -17, 0])\n",
    "rank_a_1 = np.linalg.matrix_rank(a_2)\n",
    "rank_b_1 = np.linalg.matrix_rank(np.hstack((a_1, b_1.reshape(3, -1))))\n",
    "rank_a_1 == rank_b_1"
   ]
  },
  {
   "cell_type": "markdown",
   "metadata": {
    "id": "cTVfl123ZS5O"
   },
   "source": [
    "б) $\\begin{cases}\n",
    "2x_{1}-4x_{2}+6x_{3}=1, \\\\\n",
    "x_{1}-2x_{2}+3x_{3}=-2, \\\\\n",
    "3x_{1}-6x_{2}+9x_{3}=5;\n",
    "\\end{cases}$"
   ]
  },
  {
   "cell_type": "markdown",
   "metadata": {},
   "source": [
    "$$\\begin{pmatrix}\n",
    "\\left.\\begin{matrix}\n",
    "2 & -4 & 6 \\\\\n",
    "1 & -2 & 3 \\\\\n",
    "3 & -6 & 9\n",
    "\\end{matrix}\\right|\n",
    "\\begin{matrix}\n",
    "1 \\\\\n",
    "-2 \\\\\n",
    "5\n",
    "\\end{matrix}\n",
    "\\end{pmatrix}$$"
   ]
  },
  {
   "cell_type": "markdown",
   "metadata": {},
   "source": [
    "Третья строка матрицы $A$ является линейной комбинацией первых двух, однако это суждение несправедливо для расширенной матрицы $(\\tilde A)$, следовательно $rankA < rank\\tilde A$, следовательно система несовместна."
   ]
  },
  {
   "cell_type": "code",
   "execution_count": 26,
   "metadata": {},
   "outputs": [
    {
     "data": {
      "text/plain": [
       "True"
      ]
     },
     "execution_count": 26,
     "metadata": {},
     "output_type": "execute_result"
    }
   ],
   "source": [
    "a_2 = np.array([[2, -4, 6], [1, -2, 3], [3, -6, 9]])\n",
    "b_2 = np.array([1, -2, 5])\n",
    "rank_a_2 = np.linalg.matrix_rank(a_2)\n",
    "rank_b_2 = np.linalg.matrix_rank(np.hstack((a_2, b_2.reshape(3, -1))))\n",
    "rank_a_2 < rank_b_2"
   ]
  },
  {
   "cell_type": "markdown",
   "metadata": {
    "id": "cTVfl123ZS5O"
   },
   "source": [
    "в) $\\begin{cases}\n",
    "x_{1}+2x_{2}+5x_{3}=4, \\\\\n",
    "3x_{1}+x_{2}-8x_{3}=-2. \n",
    "\\end{cases}$"
   ]
  },
  {
   "cell_type": "markdown",
   "metadata": {},
   "source": [
    "$$\\begin{pmatrix}\n",
    "\\left.\\begin{matrix}\n",
    "1 & 2 & 5 \\\\\n",
    "3 & 2 & -8 \\\\\n",
    "\\end{matrix}\\right|\n",
    "\\begin{matrix}\n",
    "4 \\\\\n",
    "-2 \\\\\n",
    "\\end{matrix}\n",
    "\\end{pmatrix} \\Rightarrow\n",
    "\\begin{pmatrix}\n",
    "\\left.\\begin{matrix}\n",
    "1 & 2 & 5 \\\\\n",
    "0 & -4 & -23 \\\\\n",
    "\\end{matrix}\\right|\n",
    "\\begin{matrix}\n",
    "4 \\\\\n",
    "-14 \\\\\n",
    "\\end{matrix}\n",
    "\\end{pmatrix}$$"
   ]
  },
  {
   "cell_type": "markdown",
   "metadata": {},
   "source": [
    "$rankA=rank\\tilde A < n$, следовательно СЛУ _совместная, неопределённая_ (система имеет бесконечное множество решений)"
   ]
  },
  {
   "cell_type": "markdown",
   "metadata": {},
   "source": [
    "$$\\begin{cases}\n",
    "x_3=с\\\\\n",
    "x_2=\\frac{14-23c}{4}\\\\\n",
    "x_1=4-5c-\\frac{14-23c}{2}\n",
    "\\end{cases}\n",
    "\\begin{cases}\n",
    "x_3=c\\\\\n",
    "x_2=\\frac{14-23c}{4}\\\\\n",
    "x_1=\\frac{22-33c}{2}\n",
    "\\end{cases}$$"
   ]
  },
  {
   "cell_type": "markdown",
   "metadata": {},
   "source": [
    "$$(-5,5, -2.25, 1)$$"
   ]
  },
  {
   "cell_type": "markdown",
   "metadata": {
    "id": "cTVfl123ZS5O"
   },
   "source": [
    "__3.__ Проверить на совместность и выяснить, сколько решений будет иметь система линейных уравнений, заданная расширенной матрицей\n",
    "\n",
    "$$\\tilde{A}=\\begin{pmatrix}\n",
    "\\left.\\begin{matrix}\n",
    "1 & 3 & -2 & 4\\\\ \n",
    "0 & 5 & 0 & 1\\\\ \n",
    "0 & 0 & 3 & 0\\\\ \n",
    "0 & 0 & 0 & 2\n",
    "\\end{matrix}\\right|\n",
    "\\begin{matrix}\n",
    "3\\\\ \n",
    "2\\\\\n",
    "4\\\\\n",
    "1\n",
    "\\end{matrix}\n",
    "\\end{pmatrix}$$"
   ]
  },
  {
   "cell_type": "code",
   "execution_count": 28,
   "metadata": {},
   "outputs": [
    {
     "name": "stdout",
     "output_type": "stream",
     "text": [
      "4 4\n"
     ]
    }
   ],
   "source": [
    "a_3 = np.array([[1, 3, -2, 4], [0, 5, 0, 1], [0, 0, 3, 0], [0, 0, 0, 2]])\n",
    "b_3 = np.array([3, 2, 4, 1])\n",
    "rank_a_3 = np.linalg.matrix_rank(a_3)\n",
    "rank_b_3 = np.linalg.matrix_rank(np.hstack((a_3, b_3.reshape(4, -1))))\n",
    "print(rank_a_3, rank_b_3)"
   ]
  },
  {
   "cell_type": "markdown",
   "metadata": {},
   "source": [
    "__Ответ:__ $rankA = rank\\tilde A = n = 4$, следовательно система совместна и определена (имеет единственное решение)."
   ]
  },
  {
   "cell_type": "markdown",
   "metadata": {},
   "source": [
    "$$\\begin{cases}\n",
    "x_1+3x_2-2x_3+4x_4=3\\\\\n",
    "5x_2+x_4=2\\\\\n",
    "3x_3=4\\\\\n",
    "2x_4=1\n",
    "\\end{cases}\n",
    "\\begin{cases}\n",
    "x_1=\\frac{83}{30}\\\\\n",
    "x_2=\\frac{3}{10}\\\\\n",
    "x_3=\\frac43\\\\\n",
    "x_4=\\frac12\n",
    "\\end{cases}$$"
   ]
  },
  {
   "cell_type": "markdown",
   "metadata": {},
   "source": [
    "Ответ СЛУ: $(\\frac{83}{30}, \\frac{3}{10}, \\frac43, \\frac12)$"
   ]
  },
  {
   "cell_type": "markdown",
   "metadata": {
    "id": "cTVfl123ZS5O"
   },
   "source": [
    "__4.__ Дана система линейных уравнений, заданная расширенной матрицей\n",
    "\n",
    "$$\\tilde{A}=\\begin{pmatrix}\n",
    "\\left.\\begin{matrix}\n",
    "1 & 2 & 3\\\\ \n",
    "4 & 5 & 6\\\\ \n",
    "7 & 8 & 9\n",
    "\\end{matrix}\\right|\n",
    "\\begin{matrix}\n",
    "a\\\\ \n",
    "b\\\\\n",
    "c\n",
    "\\end{matrix}\n",
    "\\end{pmatrix}.$$\n",
    "\n",
    "Найти соотношение между параметрами $a$, $b$ и $c$, при которых система является несовместной."
   ]
  },
  {
   "cell_type": "markdown",
   "metadata": {},
   "source": [
    "$$\\begin{pmatrix}\n",
    "\\left.\\begin{matrix}\n",
    "1 & 2 & 3 \\\\\n",
    "4 & 5 & 6 \\\\\n",
    "7 & 8 & 9\n",
    "\\end{matrix}\\right|\n",
    "\\begin{matrix}\n",
    "a \\\\\n",
    "b \\\\\n",
    "c\n",
    "\\end{matrix}\n",
    "\\end{pmatrix} \\Rightarrow\n",
    "\\begin{pmatrix}\n",
    "\\left.\\begin{matrix}\n",
    "1 & 2 & 3\\\\\n",
    "0 & -3 & -6 \\\\\n",
    "0 & -6 & -12 \\\\\n",
    "\\end{matrix}\\right|\n",
    "\\begin{matrix}\n",
    "a \\\\\n",
    "b-4a \\\\\n",
    "c-7a\n",
    "\\end{matrix}\n",
    "\\end{pmatrix}$$"
   ]
  },
  {
   "cell_type": "markdown",
   "metadata": {},
   "source": [
    "строки 2 и 3 матрицы $A$ линейны зависимы, следовательно $rankA < 3$. Чтобы СЛУ являлась несовместной, $rank\\tilde A$ должна равняться 3, а значит $2(b-4a) \\neq c-7a$"
   ]
  },
  {
   "cell_type": "markdown",
   "metadata": {},
   "source": [
    "$$2b-8a\\neq c-7a$$  \n",
    "$$a \\neq 2b-c$$"
   ]
  },
  {
   "cell_type": "markdown",
   "metadata": {},
   "source": [
    "Система является несовместной при любых значениях $a, b,c$, которые выполняют следующее неравенство $a\\neq 2b-c$"
   ]
  },
  {
   "cell_type": "markdown",
   "metadata": {},
   "source": [
    "$$\\forall a,\\forall b,\\forall c |\\{a\\neq 2b-c\\}$$"
   ]
  }
 ],
 "metadata": {
  "kernelspec": {
   "display_name": "Python 3",
   "language": "python",
   "name": "python3"
  },
  "language_info": {
   "codemirror_mode": {
    "name": "ipython",
    "version": 3
   },
   "file_extension": ".py",
   "mimetype": "text/x-python",
   "name": "python",
   "nbconvert_exporter": "python",
   "pygments_lexer": "ipython3",
   "version": "3.8.5"
  }
 },
 "nbformat": 4,
 "nbformat_minor": 4
}
