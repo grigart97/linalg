{
 "cells": [
  {
   "cell_type": "markdown",
   "metadata": {
    "id": "VAmOu--LIILw"
   },
   "source": [
    "## Практическое задание 3"
   ]
  },
  {
   "cell_type": "code",
   "execution_count": 1,
   "metadata": {},
   "outputs": [],
   "source": [
    "import numpy as np"
   ]
  },
  {
   "cell_type": "markdown",
   "metadata": {
    "id": "APeDlmh8IIL1"
   },
   "source": [
    "Все задания рекомендуется делать вручную, затем проверяя полученные результаты с использованием numpy.\n",
    "\n",
    "### __1.__ Установить, какие произведения матриц $AB$ и $BA$ определены, и найти размерности полученных матриц:"
   ]
  },
  {
   "cell_type": "markdown",
   "metadata": {},
   "source": [
    "   а) $A$ — матрица $4\\times 2$, $B$ — матрица $4\\times 2$:  \n",
    "   __Ответ:__ Произведение матриц $AB$ и $BA$ невозможно, так как число столбцов матрицы $A$ не равно числу строк матрицы $B$ и наоборот.\n",
    "    \n",
    "   б) $A$ — матрица $2\\times 5$, $B$ — матрица $5\\times 3$:  \n",
    "   __Ответ:__ Произведение матриц $AB$ определено. Размерность полученной матрицы составляет $2\\times3$\n",
    "    \n",
    "   в) $A$ — матрица $8\\times 3$, $B$ — матрица $3\\times 8$:  \n",
    "   __Ответ:__ Произвдение матриц $AB$ и $BA$ определено. Размерность полученных матриц составляет $8\\times8$ и $3\\times3$, соответсвенно\n",
    "    \n",
    "   г) $A$ — квадратная матрица $4\\times 4$, $B$ — квадратная матрица $4\\times 4$:  \n",
    "   __Ответ:__ Произвдение матриц $AB$ и $BA$ определено. Размерность полученных матриц составляет $4\\times4$"
   ]
  },
  {
   "cell_type": "markdown",
   "metadata": {
    "id": "APeDlmh8IIL1"
   },
   "source": [
    "### __2.__ Найти сумму и произведение матриц $A=\\begin{pmatrix}\n",
    "1 & -2\\\\ \n",
    "3 & 0\n",
    "\\end{pmatrix}$ и $B=\\begin{pmatrix}\n",
    "4 & -1\\\\ \n",
    "0 & 5\n",
    "\\end{pmatrix}.$"
   ]
  },
  {
   "cell_type": "markdown",
   "metadata": {},
   "source": [
    "$$A+B = \\begin{pmatrix} 1+4 & -2-1\\\\ 3+0 & 0+5\\\\ \\end{pmatrix}=\\begin{pmatrix} 5 & -3\\\\ 3 & 5\\\\ \\end{pmatrix}$$"
   ]
  },
  {
   "cell_type": "markdown",
   "metadata": {},
   "source": [
    "$$A\\times B=\\begin{pmatrix} 1\\cdot4+(-2)\\cdot0 & 1\\cdot(-1) + (-2)\\cdot5\\\\ 3\\cdot4+0\\cdot0 & 3\\cdot(-1)+0\\cdot5\\\\ \\end{pmatrix}=\\begin{pmatrix} 4 & -11\\\\ 12 & -3\\\\ \\end{pmatrix}$$"
   ]
  },
  {
   "cell_type": "markdown",
   "metadata": {},
   "source": [
    "$$B\\times A=\\begin{pmatrix} 4\\cdot1+(-1)\\cdot3 & 4\\cdot(-2)+(-1)\\cdot0\\\\ 0\\cdot1+5\\cdot3 & 0\\cdot(-2)+5\\cdot0\\\\ \\end{pmatrix}= \\begin{pmatrix} 1 & -8\\\\ 15 & 0\\\\ \\end{pmatrix}$$"
   ]
  },
  {
   "cell_type": "code",
   "execution_count": 2,
   "metadata": {},
   "outputs": [
    {
     "name": "stdout",
     "output_type": "stream",
     "text": [
      "[[ 5 -3]\n",
      " [ 3  5]]\n",
      "\n",
      "[[  4 -11]\n",
      " [ 12  -3]]\n",
      "\n",
      "[[ 1 -8]\n",
      " [15  0]]\n"
     ]
    }
   ],
   "source": [
    "a = np.array([[1, -2], [3, 0]])\n",
    "b = np.array([[4, -1], [0, 5]])\n",
    "print(a + b, np.dot(a, b), np.dot(b, a), sep='\\n\\n')"
   ]
  },
  {
   "cell_type": "markdown",
   "metadata": {
    "id": "APeDlmh8IIL1"
   },
   "source": [
    "### __3.__ Из закономерностей сложения и умножения матриц на число можно сделать вывод, что матрицы одного размера образуют линейное пространство. Вычислить линейную комбинацию $3A-2B+4C$ для матриц $A=\\begin{pmatrix}\n",
    "1 & 7\\\\ \n",
    "3 & -6\n",
    "\\end{pmatrix}$, $B=\\begin{pmatrix}\n",
    "0 & 5\\\\ \n",
    "2 & -1\n",
    "\\end{pmatrix}$, $C=\\begin{pmatrix}\n",
    "2 & -4\\\\ \n",
    "1 & 1\n",
    "\\end{pmatrix}.$"
   ]
  },
  {
   "cell_type": "markdown",
   "metadata": {},
   "source": [
    "$$3A-2B+4C=3\\begin{pmatrix} 1&7\\\\3&-6\\\\\\end{pmatrix}-2\\begin{pmatrix} 0&5\\\\2&-1\\\\\\end{pmatrix}+4\\begin{pmatrix} 2&-4\\\\1&1\\\\\\end{pmatrix}=\\begin{pmatrix} 3&21\\\\9&-18\\\\\\end{pmatrix}+\\begin{pmatrix} 0&-10\\\\-4&2\\\\\\end{pmatrix}+\\begin{pmatrix} 8&-16\\\\4&4\\\\\\end{pmatrix}=\\begin{pmatrix} 11&-5\\\\9&-12\\\\\\end{pmatrix}$$"
   ]
  },
  {
   "cell_type": "code",
   "execution_count": 3,
   "metadata": {},
   "outputs": [
    {
     "name": "stdout",
     "output_type": "stream",
     "text": [
      "[[ 11  -5]\n",
      " [  9 -12]]\n"
     ]
    }
   ],
   "source": [
    "a = np.array([[1, 7], [3, -6]])\n",
    "b = np.array([[0, 5], [2, -1]])\n",
    "c = np.array([[2, -4], [1, 1]])\n",
    "print(3*a-2*b+4*c)"
   ]
  },
  {
   "cell_type": "markdown",
   "metadata": {
    "id": "APeDlmh8IIL1"
   },
   "source": [
    "### __4.__ Дана матрица $A=\\begin{pmatrix}\n",
    "4 & 1\\\\ \n",
    "5 & -2\\\\ \n",
    "2 & 3\n",
    "\\end{pmatrix}$.\n",
    "Вычислить $AA^{T}$ и $A^{T}A$."
   ]
  },
  {
   "cell_type": "markdown",
   "metadata": {},
   "source": [
    "$$A^T=\\begin{pmatrix}4&5&2\\\\1&-2&3\\\\\\end{pmatrix}$$"
   ]
  },
  {
   "cell_type": "markdown",
   "metadata": {},
   "source": [
    "$$AA^T=\\begin{pmatrix} \n",
    "4\\cdot4+1\\cdot1 & 4\\cdot5+1\\cdot(-2) & 4\\cdot2+1\\cdot3\\\\\n",
    "5\\cdot4+(-2)\\cdot1 & 5\\cdot5+(-2)\\cdot(-2) & 4\\cdot2+(-2)\\cdot3\\\\\n",
    "2\\cdot4+3\\cdot1 & 2\\cdot5+3\\cdot(-2) & 2\\cdot2+3\\cdot3\\\\\n",
    "\\end{pmatrix} =\n",
    "\\begin{pmatrix}\n",
    "17 & 18 & 11\\\\\n",
    "18 & 29 & 2\\\\\n",
    "11 & 4 & 10\\\\\n",
    "\\end{pmatrix}$$"
   ]
  },
  {
   "cell_type": "markdown",
   "metadata": {},
   "source": [
    "$$A^TA=\\begin{pmatrix}\n",
    "4\\cdot4+5\\cdot5+2\\cdot2 & 4\\cdot1+5\\cdot(-2)+2\\cdot3\\\\\n",
    "1\\cdot4+(-2)\\cdot5+3\\cdot2 & 1\\cdot1+(-2)\\cdot(-2)+3\\cdot3\\\\\n",
    "\\end{pmatrix} =\n",
    "\\begin{pmatrix}\n",
    "45 & 0\\\\\n",
    "0 & 14\\\\\n",
    "\\end{pmatrix}$$"
   ]
  },
  {
   "cell_type": "code",
   "execution_count": 4,
   "metadata": {},
   "outputs": [
    {
     "name": "stdout",
     "output_type": "stream",
     "text": [
      "[[17 18 11]\n",
      " [18 29  4]\n",
      " [11  4 13]]\n",
      "\n",
      "[[45  0]\n",
      " [ 0 14]]\n"
     ]
    }
   ],
   "source": [
    "a = np.array([[4, 1], [5, -2], [2, 3]])\n",
    "print(a.dot(a.T), a.T.dot(a), sep='\\n\\n')"
   ]
  },
  {
   "cell_type": "markdown",
   "metadata": {
    "id": "APeDlmh8IIL1"
   },
   "source": [
    "### __5*.__ Написать на Python функцию для перемножения двух произвольных матриц, не используя NumPy."
   ]
  },
  {
   "cell_type": "code",
   "execution_count": 5,
   "metadata": {},
   "outputs": [],
   "source": [
    "a = [[1, 2], [3, 4], [5, 6], [7, 8], [9, 10]]\n",
    "b = [[1, 2, 3], [4, 5, 6]]"
   ]
  },
  {
   "cell_type": "code",
   "execution_count": 6,
   "metadata": {},
   "outputs": [],
   "source": [
    "class MyError(Exception):\n",
    "    def __init__(self, text):\n",
    "        self.txt = text\n",
    "\n",
    "\n",
    "def rows_len_check(matrix): \n",
    "    \"\"\"\n",
    "    функция для сравнения количества элементов в строках. Она нам ещё пригодится :)\n",
    "    \"\"\"\n",
    "    if len(matrix) != len([el for el in matrix if len(el) == len(matrix[0])]):\n",
    "        raise MyError('Количество элементов в строках матрицы должны совпадать')\n",
    "\n",
    "\n",
    "def rows1_columns2_check(matrix1, matrix2):\n",
    "    \"\"\"\n",
    "    функция для сравнения количества столбцов в первой матрице с количеством строк во второй. Она нам ещё пригодится :)\n",
    "    \"\"\"\n",
    "    if len(matrix2) != len(matrix1[0]):\n",
    "        raise MyError('Количество столбцов первой матрицы должно совподать с количеством строк во второй матрице')\n",
    "\n",
    "\n",
    "def matrix_dot(matrix1: [list], matrix2: [list]) -> [list]:\n",
    "    rows_len_check(matrix1)\n",
    "    rows_len_check(matrix2)\n",
    "    rows1_columns2_check(matrix1, matrix2)\n",
    "    answer = []\n",
    "    for i in range(len(a)):\n",
    "        answer.append([])\n",
    "        for j in range(len(b[0])):\n",
    "            answer[i].append(0)\n",
    "            for w in range(len(b)):\n",
    "                answer[i][j] += matrix1[i][w] * matrix2[w][j]\n",
    "    return answer"
   ]
  },
  {
   "cell_type": "code",
   "execution_count": 7,
   "metadata": {},
   "outputs": [
    {
     "name": "stdout",
     "output_type": "stream",
     "text": [
      "[9, 12, 15]\n",
      "[19, 26, 33]\n",
      "[29, 40, 51]\n",
      "[39, 54, 69]\n",
      "[49, 68, 87]\n",
      "[[ 9 12 15]\n",
      " [19 26 33]\n",
      " [29 40 51]\n",
      " [39 54 69]\n",
      " [49 68 87]]\n"
     ]
    }
   ],
   "source": [
    "print(*matrix_dot(a, b), sep='\\n')\n",
    "print(np.dot(a, b))"
   ]
  },
  {
   "cell_type": "markdown",
   "metadata": {
    "id": "NRcOh0gsWtUo"
   },
   "source": [
    "## Практическое задание 4"
   ]
  },
  {
   "cell_type": "markdown",
   "metadata": {},
   "source": [
    "### __1.__ Вычислить определитель:"
   ]
  },
  {
   "cell_type": "markdown",
   "metadata": {},
   "source": [
    "a)\n",
    "$$\\begin{vmatrix}\n",
    "\\sin{x} & -\\cos{x}\\\\ \n",
    "\\cos{x} & \\sin{x}\n",
    "\\end{vmatrix} = \\sin^2{x}+\\cos^2{x}=1$$"
   ]
  },
  {
   "cell_type": "markdown",
   "metadata": {},
   "source": [
    "б)    \n",
    "$$\\begin{vmatrix}\n",
    "4 & 2 & 3\\\\ \n",
    "0 & 5 & 1\\\\ \n",
    "0 & 0 & 9\n",
    "\\end{vmatrix} = 4\\cdot5\\cdot9=180$$"
   ]
  },
  {
   "cell_type": "code",
   "execution_count": 8,
   "metadata": {},
   "outputs": [
    {
     "data": {
      "text/plain": [
       "180.0"
      ]
     },
     "execution_count": 8,
     "metadata": {},
     "output_type": "execute_result"
    }
   ],
   "source": [
    "task1b = np.array([[4, 2, 3], [0, 5, 1], [0, 0, 9]])\n",
    "np.linalg.det(task1b)"
   ]
  },
  {
   "cell_type": "markdown",
   "metadata": {},
   "source": [
    "в)\n",
    "$$\\begin{vmatrix}\n",
    "1 & 2 & 3\\\\ \n",
    "4 & 5 & 6\\\\ \n",
    "7 & 8 & 9\n",
    "\\end{vmatrix} = \n",
    "\\begin{vmatrix}\n",
    "1 & 2 & 3\\\\ \n",
    "0 & -3 & -6\\\\ \n",
    "0 & -6 & -12\n",
    "\\end{vmatrix} = \n",
    "\\begin{vmatrix}\n",
    "1 & 2 & 3\\\\ \n",
    "0 & -3 & -6\\\\ \n",
    "0 & -6 & -12\n",
    "\\end{vmatrix} = 0$$\n",
    "третья строка линейно-зависима от второй строки."
   ]
  },
  {
   "cell_type": "markdown",
   "metadata": {},
   "source": [
    "$$\\begin{vmatrix}\n",
    "1 & 2 & 3\\\\ \n",
    "4 & 5 & 6\\\\ \n",
    "7 & 8 & 9\n",
    "\\end{vmatrix} = 1\\begin{vmatrix} 5 & 6\\\\ 8 & 9\\\\\\end{vmatrix} -2 \\begin{vmatrix} 4 & 6\\\\ 7 & 9\\\\\\end{vmatrix} + 3\\begin{vmatrix} 4 & 5\\\\ 7 & 8\\\\\\end{vmatrix}= -3+12-9=0$$"
   ]
  },
  {
   "cell_type": "code",
   "execution_count": 9,
   "metadata": {},
   "outputs": [
    {
     "name": "stdout",
     "output_type": "stream",
     "text": [
      "-0\n"
     ]
    }
   ],
   "source": [
    "task1v = np.array([[1, 2, 3], [4, 5, 6], [7, 8, 9]])\n",
    "print(f'{np.linalg.det(task1v):.0f}')"
   ]
  },
  {
   "cell_type": "markdown",
   "metadata": {
    "id": "H3qXQfJ-WtUp"
   },
   "source": [
    "### __2.__ Определитель матрицы $A$ равен $4$. Найти:\n",
    "\n",
    "   а) $det(A^{2}) = det(A)\\cdot det(A) = 4 \\cdot 4 = 16$ (Исходя из 9 свойства);\n",
    "    \n",
    "   б) $det(A^{T}) = det(A) = 4$ (Исходя из 1 свойства);\n",
    "    \n",
    "   в) $det(2A) = det(A)\\cdot 2^{rank(A)}=4\\cdot2^{rank(A)}$ (Исходя из 2 свойства)."
   ]
  },
  {
   "cell_type": "markdown",
   "metadata": {
    "id": "H3qXQfJ-WtUp"
   },
   "source": [
    "### __3.__  Доказать, что матрица\n",
    "\n",
    "$$\\begin{pmatrix}\n",
    "-2 & 7 & -3\\\\ \n",
    "4 & -14 & 6\\\\ \n",
    "-3 & 7 & 13\n",
    "\\end{pmatrix}$$\n",
    "   \n",
    "вырожденная."
   ]
  },
  {
   "cell_type": "markdown",
   "metadata": {},
   "source": [
    "Вторая строка линейно-зависима от первой, следовательно, определитель равен нулю, следовательно матрица _вырожденная_ или _сингулярная_"
   ]
  },
  {
   "cell_type": "markdown",
   "metadata": {
    "id": "H3qXQfJ-WtUp"
   },
   "source": [
    "### __4.__ Найти ранг матрицы:"
   ]
  },
  {
   "cell_type": "markdown",
   "metadata": {},
   "source": [
    "а) $\\begin{pmatrix}\n",
    "1 & 2 & 3\\\\ \n",
    "1 & 1 & 1\\\\ \n",
    "2 & 3 & 4\n",
    "\\end{pmatrix}$  \n",
    "\n",
    "Третья строка является линейной комбинацией первых друх. Отбросим её.  \n",
    "\n",
    "$\\begin{pmatrix}\n",
    "1 & 2 & 3\\\\ \n",
    "1 & 1 & 1\n",
    "\\end{pmatrix}$  \n",
    "\n",
    "$\\begin{pmatrix}\n",
    "1 & 2 & 3\\\\ \n",
    "0 & -1 & -2\n",
    "\\end{pmatrix}$  \n",
    "\n",
    "Таким образом ранг матрицы равен $2$."
   ]
  },
  {
   "cell_type": "code",
   "execution_count": 10,
   "metadata": {},
   "outputs": [
    {
     "data": {
      "text/plain": [
       "2"
      ]
     },
     "execution_count": 10,
     "metadata": {},
     "output_type": "execute_result"
    }
   ],
   "source": [
    "task4a = np.array([[1, 2, 3], [1, 1, 1], [2, 3, 4]])\n",
    "np.linalg.matrix_rank(task4a)"
   ]
  },
  {
   "cell_type": "markdown",
   "metadata": {
    "id": "H3qXQfJ-WtUp"
   },
   "source": [
    "б) $\\begin{pmatrix}\n",
    "0 & 0 & 2 & 1\\\\ \n",
    "0 & 0 & 2 & 2\\\\ \n",
    "0 & 0 & 4 & 3\\\\ \n",
    "2 & 3 & 5 & 6\n",
    "\\end{pmatrix}$  \n",
    "\n",
    "Третья строка является линейной комбинацией первых двух. Отбросим её.\n",
    "\n",
    "$\\begin{pmatrix}\n",
    "0 & 0 & 2 & 1\\\\ \n",
    "0 & 0 & 2 & 2\\\\ \n",
    "2 & 3 & 5 & 6\n",
    "\\end{pmatrix}$  \n",
    "\n",
    "Отзеркалим матрицу по столбцам.  \n",
    "\n",
    "$\\begin{pmatrix}\n",
    "1 & 2 & 0 & 0\\\\ \n",
    "2 & 2 & 0 & 0\\\\ \n",
    "6 & 5 & 3 & 2\n",
    "\\end{pmatrix}$  \n",
    "\n",
    "Транспонируем матрицу.\n",
    "\n",
    "$\\begin{pmatrix}\n",
    "1 & 2 & 6\\\\ \n",
    "2 & 2 & 5\\\\ \n",
    "0 & 0 & 3\\\\\n",
    "0 & 0 & 2\n",
    "\\end{pmatrix}$  \n",
    "\n",
    "Вычтем из второй строки первую с множителем $2$.\n",
    "\n",
    "$\\begin{pmatrix}\n",
    "1 & 2 & 6\\\\ \n",
    "0 & -2 & -7\\\\ \n",
    "0 & 0 & 3\\\\\n",
    "0 & 0 & 2\n",
    "\\end{pmatrix}$\n",
    "\n",
    "Таким образом ранг матрицы равен 3."
   ]
  },
  {
   "cell_type": "code",
   "execution_count": 11,
   "metadata": {},
   "outputs": [
    {
     "data": {
      "text/plain": [
       "3"
      ]
     },
     "execution_count": 11,
     "metadata": {},
     "output_type": "execute_result"
    }
   ],
   "source": [
    "task4b = np.array([[0, 0, 2, 1], [0, 0, 2, 2], [0, 0, 4, 3], [2, 3, 5, 6]])\n",
    "np.linalg.matrix_rank(task4b)"
   ]
  },
  {
   "cell_type": "code",
   "execution_count": 12,
   "metadata": {},
   "outputs": [
    {
     "data": {
      "text/plain": [
       "-24534.000000000007"
      ]
     },
     "execution_count": 12,
     "metadata": {},
     "output_type": "execute_result"
    }
   ],
   "source": [
    "test_matrix = np.array([[1, 2, 3, 4], [9, -2, 10, 6], [4, 0, 17, -4], [3, 1, 1, 111]])\n",
    "np.linalg.det(test_matrix)"
   ]
  },
  {
   "cell_type": "markdown",
   "metadata": {},
   "source": [
    "### Написать на Python функцию для получения определителя матрицы, не используя NumPy."
   ]
  },
  {
   "cell_type": "code",
   "execution_count": 13,
   "metadata": {},
   "outputs": [],
   "source": [
    "def matrix_det(matrix):\n",
    "    rows_len_check(matrix)\n",
    "    rows1_columns2_check(matrix, matrix)\n",
    "    det = 0\n",
    "    if len(matrix) == 2:\n",
    "        return matrix[0][0] * matrix[1][1] - matrix[0][1] * matrix[1][0]\n",
    "    for i, num in enumerate(matrix[0]):\n",
    "        det += (-1) ** i * num * matrix_det(\n",
    "            [[el for j, el in enumerate(vector) if j != i] for k, vector in enumerate(matrix) if k > 0]\n",
    "        )\n",
    "    return det"
   ]
  },
  {
   "cell_type": "code",
   "execution_count": 14,
   "metadata": {},
   "outputs": [],
   "source": [
    "c = [[1, 2, 3, 4],\n",
    "     [9, -2, 10, 6],\n",
    "     [4, 0, 17, -4],\n",
    "     [3, 1, 1, 111]]"
   ]
  },
  {
   "cell_type": "code",
   "execution_count": 15,
   "metadata": {},
   "outputs": [
    {
     "name": "stdout",
     "output_type": "stream",
     "text": [
      "-24534\n",
      "-24534\n"
     ]
    }
   ],
   "source": [
    "print(matrix_det(c))\n",
    "print(f'{np.linalg.det(c):.0f}')"
   ]
  }
 ],
 "metadata": {
  "kernelspec": {
   "display_name": "Python 3",
   "language": "python",
   "name": "python3"
  },
  "language_info": {
   "codemirror_mode": {
    "name": "ipython",
    "version": 3
   },
   "file_extension": ".py",
   "mimetype": "text/x-python",
   "name": "python",
   "nbconvert_exporter": "python",
   "pygments_lexer": "ipython3",
   "version": "3.8.5"
  }
 },
 "nbformat": 4,
 "nbformat_minor": 4
}
